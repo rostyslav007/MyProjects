{
 "cells": [
  {
   "cell_type": "code",
   "execution_count": 1,
   "id": "waiting-static",
   "metadata": {},
   "outputs": [],
   "source": [
    "from keras.datasets import mnist\n",
    "import numpy as np\n",
    "from PIL import Image, ImageDraw\n",
    "import copy"
   ]
  },
  {
   "cell_type": "code",
   "execution_count": 2,
   "id": "pleased-ability",
   "metadata": {},
   "outputs": [],
   "source": [
    "(X_train, Y_train), (X_test, Y_test) = mnist.load_data()"
   ]
  },
  {
   "cell_type": "code",
   "execution_count": 3,
   "id": "other-sterling",
   "metadata": {},
   "outputs": [],
   "source": [
    "X_train = X_train.reshape((X_train.shape[0], X_train.shape[1]*X_train.shape[2]))"
   ]
  },
  {
   "cell_type": "code",
   "execution_count": 4,
   "id": "particular-breeding",
   "metadata": {},
   "outputs": [
    {
     "data": {
      "text/plain": [
       "(60000, 784)"
      ]
     },
     "execution_count": 4,
     "metadata": {},
     "output_type": "execute_result"
    }
   ],
   "source": [
    "X_train.shape"
   ]
  },
  {
   "cell_type": "code",
   "execution_count": 5,
   "id": "relevant-interest",
   "metadata": {},
   "outputs": [],
   "source": [
    "X_train = X_train.T / 255"
   ]
  },
  {
   "cell_type": "code",
   "execution_count": 6,
   "id": "stainless-terrorism",
   "metadata": {},
   "outputs": [],
   "source": [
    "def show_pic(data, number):\n",
    "    Image.fromarray(data[:, number].reshape(28, 28)).show()"
   ]
  },
  {
   "cell_type": "code",
   "execution_count": 7,
   "id": "electric-expense",
   "metadata": {},
   "outputs": [],
   "source": [
    "show_pic(X_train, 25)"
   ]
  },
  {
   "cell_type": "code",
   "execution_count": 8,
   "id": "determined-perception",
   "metadata": {},
   "outputs": [],
   "source": [
    "X_test = X_test.reshape(X_test.shape[0], -1)"
   ]
  },
  {
   "cell_type": "code",
   "execution_count": 9,
   "id": "informed-sentence",
   "metadata": {},
   "outputs": [],
   "source": [
    "X_test = X_test.T / 255\n",
    "m = X_train.shape[1]"
   ]
  },
  {
   "cell_type": "code",
   "execution_count": 10,
   "id": "administrative-north",
   "metadata": {},
   "outputs": [],
   "source": [
    "def relu(x):\n",
    "    return np.maximum(0.01*x, x)\n",
    "\n",
    "def relu_prime(x):\n",
    "    x[x>=0] = 1\n",
    "    x[x<0] = 0.01\n",
    "    return x\n",
    "\n",
    "def sigmoid(x):\n",
    "    return 1 / (1 + np.exp(-x))\n",
    "\n",
    "def sigmoid_prime(x):\n",
    "    return sigmoid(x)*(1-sigmoid(x))\n"
   ]
  },
  {
   "cell_type": "code",
   "execution_count": 11,
   "id": "collected-rough",
   "metadata": {},
   "outputs": [],
   "source": [
    "def initialize_parameters(layer_size, L):\n",
    "    parameters = {}\n",
    "    for i in range(1, L+1):\n",
    "        parameters['W'+str(i)] = np.random.rand(layer_size[i], layer_size[i-1])*0.01\n",
    "        parameters['b'+str(i)] = np.zeros((layer_size[i], 1))\n",
    "    return parameters"
   ]
  },
  {
   "cell_type": "code",
   "execution_count": 12,
   "id": "missing-diversity",
   "metadata": {},
   "outputs": [],
   "source": [
    "layer_size = [X_train.shape[0], 30, 15, 10]\n",
    "L = len(layer_size)-1"
   ]
  },
  {
   "cell_type": "code",
   "execution_count": 13,
   "id": "introductory-filter",
   "metadata": {},
   "outputs": [],
   "source": [
    "parameters = initialize_parameters(layer_size, L)"
   ]
  },
  {
   "cell_type": "code",
   "execution_count": 14,
   "id": "computational-celebration",
   "metadata": {},
   "outputs": [],
   "source": [
    "def forward_propagation(X, parameters, L):\n",
    "    A = {}\n",
    "    Z = {}\n",
    "    A[0] = X\n",
    "    for i in range(1, L):\n",
    "        Z[i] = parameters['W'+str(i)] @ A[i-1] + parameters['b'+str(i)]\n",
    "        A[i] = relu(Z[i])\n",
    "    Z[L] = parameters['W'+str(L)] @ A[L-1] + parameters['b' + str(L)]\n",
    "    A[L] = sigmoid(Z[L])\n",
    "    return A, Z\n",
    "    "
   ]
  },
  {
   "cell_type": "code",
   "execution_count": 15,
   "id": "protective-psychiatry",
   "metadata": {},
   "outputs": [],
   "source": [
    "A,Z = forward_propagation(X_train, parameters, L)"
   ]
  },
  {
   "cell_type": "code",
   "execution_count": 16,
   "id": "requested-automation",
   "metadata": {},
   "outputs": [],
   "source": [
    "def compute_cost(AL, Y):\n",
    "    J = 0\n",
    "    for i in range(len(Y)):\n",
    "        a = AL[:, i].T\n",
    "        y = np.zeros(10)\n",
    "        y[Y[i]] = 1\n",
    "        J += np.sum(y*np.log(a) + (1-y)*np.log(1-a))\n",
    "    J = -1/len(Y)*J\n",
    "    return J"
   ]
  },
  {
   "cell_type": "code",
   "execution_count": 17,
   "id": "miniature-empire",
   "metadata": {},
   "outputs": [
    {
     "data": {
      "text/plain": [
       "6.953632412865331"
      ]
     },
     "execution_count": 17,
     "metadata": {},
     "output_type": "execute_result"
    }
   ],
   "source": [
    "compute_cost(A[L], Y_train)"
   ]
  },
  {
   "cell_type": "code",
   "execution_count": 18,
   "id": "ambient-click",
   "metadata": {},
   "outputs": [],
   "source": [
    "def backprop(A, Y, Z, parameters, L):\n",
    "    m = len(Y)\n",
    "    grads = {}\n",
    "    dAL = []\n",
    "    AL = A[L]\n",
    "    for i in range(m):\n",
    "        a = AL[:, i]\n",
    "        y = np.zeros(10)\n",
    "        y[Y[i]] = 1\n",
    "        dAL.append(-y/a + (1-y)/(1-a))\n",
    "    dAL = np.array(dAL).T\n",
    "    dZL = dAL*sigmoid_prime(Z[L])\n",
    "    dW = 1/m*dZL @ A[L-1].T\n",
    "    db = 1/m*np.sum(dZL, axis=1, keepdims=True)\n",
    "    dA = parameters['W'+str(L)].T @ dZL\n",
    "    grads['dW'+str(L)] = dW\n",
    "    grads['db'+str(L)] = db\n",
    "    for i in range(L-1, 0, -1):\n",
    "        dZ = dA * relu_prime(Z[i])\n",
    "        dW = 1/m*dZ @ A[i-1].T\n",
    "        db = 1/m*np.sum(dZ, axis=1, keepdims=True)\n",
    "        dA = parameters['W'+str(i)].T @ dZ\n",
    "        \n",
    "        grads['dW'+str(i)] = dW\n",
    "        grads['db'+str(i)] = db\n",
    "    return grads\n",
    "        \n",
    "    "
   ]
  },
  {
   "cell_type": "code",
   "execution_count": 19,
   "id": "guilty-restriction",
   "metadata": {},
   "outputs": [],
   "source": [
    "grads = backprop(A, Y_train, Z, parameters, L)"
   ]
  },
  {
   "cell_type": "code",
   "execution_count": 20,
   "id": "nasty-sender",
   "metadata": {},
   "outputs": [],
   "source": [
    "def learning_NN(X, Y, layer_size, learning_rate, count = 2300):\n",
    "    L = len(layer_size)-1\n",
    "    parameters = initialize_parameters(layer_size, L)\n",
    "    parameter_set = {}\n",
    "    for i in range(count):\n",
    "        A,Z = forward_propagation(X, parameters, L)\n",
    "        print(compute_cost(A[L], Y))\n",
    "        grads = backprop(A, Y, Z, parameters, L)\n",
    "        if (i % 50 == 0 and i >= 200):\n",
    "            parameter_set[i] = copy.deepcopy(parameters)\n",
    "            print(parameter_set[i])\n",
    "        for j in range(1, L+1):\n",
    "            parameters['W'+str(j)] = parameters['W'+str(j)] - learning_rate*grads['dW'+str(j)]\n",
    "            parameters['b'+str(j)] = parameters['b'+str(j)] - learning_rate*grads['db'+str(j)]\n",
    "            \n",
    "    return parameter_set\n",
    "        "
   ]
  },
  {
   "cell_type": "code",
   "execution_count": 21,
   "id": "conditional-andrew",
   "metadata": {},
   "outputs": [],
   "source": [
    "#learn_params = learning_NN(X_train, Y_train, layer_size, 0.2)"
   ]
  },
  {
   "cell_type": "code",
   "execution_count": 22,
   "id": "appropriate-accuracy",
   "metadata": {},
   "outputs": [],
   "source": [
    "def accuracy(X, Y, parameters, L):\n",
    "    A,Z = forward_propagation(X, parameters, L)\n",
    "    AL = A[L]\n",
    "    pred = []\n",
    "    for i in range(len(Y)):\n",
    "        a = AL[:, i].T\n",
    "        max_i = np.argmax(a)\n",
    "        pred.append(max_i == Y[i])\n",
    "        #if not pred[i] and i < :\n",
    "        #    show_pic(X*255, i)\n",
    "    return np.sum(np.array(pred))/len(Y)\n",
    "        "
   ]
  },
  {
   "cell_type": "code",
   "execution_count": 23,
   "id": "cooperative-condition",
   "metadata": {},
   "outputs": [],
   "source": [
    "a = np.array([1, 2, 3, 4, 5])"
   ]
  },
  {
   "cell_type": "code",
   "execution_count": 24,
   "id": "given-gauge",
   "metadata": {},
   "outputs": [
    {
     "data": {
      "text/plain": [
       "4"
      ]
     },
     "execution_count": 24,
     "metadata": {},
     "output_type": "execute_result"
    }
   ],
   "source": [
    "np.argmax(a)"
   ]
  },
  {
   "cell_type": "code",
   "execution_count": 25,
   "id": "educational-superintendent",
   "metadata": {},
   "outputs": [],
   "source": [
    "#best_params = None\n",
    "#max_acc = 0\n",
    "#k = None\n",
    "#for (key, params) in learn_params.items():\n",
    "#    acc = accuracy(X_test, Y_test, params, L)\n",
    "#    if acc > max_acc:\n",
    "#        max_acc = acc\n",
    "#        k = key\n",
    "#        best_params = params"
   ]
  },
  {
   "cell_type": "code",
   "execution_count": 26,
   "id": "foreign-ratio",
   "metadata": {},
   "outputs": [],
   "source": [
    "params = np.load('temp.npy', allow_pickle=True).item()"
   ]
  },
  {
   "cell_type": "code",
   "execution_count": null,
   "id": "exterior-crown",
   "metadata": {},
   "outputs": [],
   "source": []
  },
  {
   "cell_type": "code",
   "execution_count": 27,
   "id": "cardiac-glasgow",
   "metadata": {},
   "outputs": [
    {
     "data": {
      "text/plain": [
       "0.9622"
      ]
     },
     "execution_count": 27,
     "metadata": {},
     "output_type": "execute_result"
    }
   ],
   "source": [
    "accuracy(X_test, Y_test, params, L)"
   ]
  },
  {
   "cell_type": "code",
   "execution_count": 28,
   "id": "computational-candy",
   "metadata": {},
   "outputs": [
    {
     "data": {
      "text/plain": [
       "0.9674166666666667"
      ]
     },
     "execution_count": 28,
     "metadata": {},
     "output_type": "execute_result"
    }
   ],
   "source": [
    "accuracy(X_train, Y_train, params, L)"
   ]
  },
  {
   "cell_type": "code",
   "execution_count": 29,
   "id": "signal-ordering",
   "metadata": {},
   "outputs": [
    {
     "data": {
      "text/plain": [
       "0.9622"
      ]
     },
     "execution_count": 29,
     "metadata": {},
     "output_type": "execute_result"
    }
   ],
   "source": [
    "accuracy(X_test, Y_test, params, L)"
   ]
  },
  {
   "cell_type": "code",
   "execution_count": 30,
   "id": "international-grove",
   "metadata": {},
   "outputs": [],
   "source": [
    "import tkinter as tk"
   ]
  },
  {
   "cell_type": "code",
   "execution_count": 43,
   "id": "phantom-philippines",
   "metadata": {},
   "outputs": [],
   "source": [
    "window = tk.Tk()\n",
    "\n",
    "count = 0\n",
    "\n",
    "\n",
    "im_arr = None\n",
    "\n",
    "def event_function(event):\n",
    "    x=event.x\n",
    "    y=event.y\n",
    "    \n",
    "    x1 = x-20\n",
    "    x2 = x+20\n",
    "    \n",
    "    y1 = y-20\n",
    "    y2 = y+20\n",
    "    \n",
    "    canvas.create_oval((x1, y1, x2, y2), fill='black')\n",
    "    img_draw.ellipse((x1, y1, x2, y2), fill='white')\n",
    "    \n",
    "def save():  \n",
    "    global count, img, im_arr\n",
    "    count += 1\n",
    "    img.save('My_draw/' + str(count) + '.jpg')\n",
    "    img = img.convert('L')\n",
    "    im_arr = np.array(img.resize((28, 28))).flatten()\n",
    "    Image.fromarray(np.array(img.resize((28, 28)))).show()\n",
    "\n",
    "def predict():\n",
    "    global label_status\n",
    "    \n",
    "    A, Z = forward_propagation(im_arr.reshape((28*28, 1))/255, params, L)\n",
    "    label_status['text'] = 'PREDICTED DIGIT: ' + str(np.argmax(A[L]))\n",
    "\n",
    "def clear():\n",
    "    global img, img_draw\n",
    "    img = Image.new('RGB', (500, 500), (0, 0, 0))\n",
    "    img_draw = ImageDraw.Draw(img)\n",
    "    \n",
    "    canvas.delete('all')\n",
    "    \n",
    "canvas = tk.Canvas(window, width=500, height=500,bg='white')\n",
    "canvas.grid(row=0, column=0, columnspan=4)\n",
    "\n",
    "button_save = tk.Button(window, text='SAVE', bg='green',fg='white', font='Helvetica 20 bold', command=save)\n",
    "button_save.grid(row=1, column=0)\n",
    "\n",
    "button_predict = tk.Button(window, text='PREDICT', bg='yellow',fg='white', font='Helvetica 20 bold', command=predict)\n",
    "button_predict.grid(row=1, column=1)\n",
    "\n",
    "button_clear = tk.Button(window, text='CLEAR', bg='red',fg='white', font='Helvetica 20 bold', command=clear)\n",
    "button_clear.grid(row=1, column=2)\n",
    "\n",
    "button_exit = tk.Button(window, text='EXIT', bg='blue',fg='white', font='Helvetica 20 bold', command=window.destroy)\n",
    "button_exit.grid(row=1, column=3)\n",
    "\n",
    "label_status = tk.Label(window, text='PREDICTED DIGIT: NONE',bg='white', font='Helvetica 25 bold')\n",
    "label_status.grid(row=2, column=0, columnspan=4)\n",
    "\n",
    "canvas.bind('<B1-Motion>', event_function)\n",
    "\n",
    "img = Image.new('RGB', (500, 500), (0, 0, 0))\n",
    "img_draw = ImageDraw.Draw(img)\n",
    "A, Z = {}, {}\n",
    "window.mainloop()"
   ]
  },
  {
   "cell_type": "code",
   "execution_count": null,
   "id": "accessible-valve",
   "metadata": {},
   "outputs": [],
   "source": []
  },
  {
   "cell_type": "code",
   "execution_count": null,
   "id": "educational-singapore",
   "metadata": {},
   "outputs": [],
   "source": []
  }
 ],
 "metadata": {
  "kernelspec": {
   "display_name": "Python 3",
   "language": "python",
   "name": "python3"
  },
  "language_info": {
   "codemirror_mode": {
    "name": "ipython",
    "version": 3
   },
   "file_extension": ".py",
   "mimetype": "text/x-python",
   "name": "python",
   "nbconvert_exporter": "python",
   "pygments_lexer": "ipython3",
   "version": "3.9.2"
  }
 },
 "nbformat": 4,
 "nbformat_minor": 5
}
