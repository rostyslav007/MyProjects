{
 "cells": [
  {
   "cell_type": "code",
   "execution_count": 139,
   "id": "supposed-disclaimer",
   "metadata": {},
   "outputs": [
    {
     "name": "stdout",
     "output_type": "stream",
     "text": [
      "Research.ipynb\n",
      "marketing_campaign.csv\n"
     ]
    }
   ],
   "source": [
    "!ls"
   ]
  },
  {
   "cell_type": "code",
   "execution_count": 140,
   "id": "fancy-seeking",
   "metadata": {},
   "outputs": [],
   "source": [
    "import numpy as np\n",
    "import pandas as pd\n",
    "import matplotlib.pyplot as plt\n",
    "import seaborn as sns\n",
    "import sklearn as sk\n",
    "import scipy as sp\n",
    "import statsmodels as sm\n",
    "%matplotlib inline"
   ]
  },
  {
   "cell_type": "code",
   "execution_count": 141,
   "id": "approved-supervision",
   "metadata": {},
   "outputs": [],
   "source": [
    "customer_df = pd.read_csv('marketing_campaign.csv', index_col='ID', sep='\\t', parse_dates=['Dt_Customer']) "
   ]
  },
  {
   "cell_type": "code",
   "execution_count": 143,
   "id": "necessary-enclosure",
   "metadata": {},
   "outputs": [
    {
     "data": {
      "text/html": [
       "<div>\n",
       "<style scoped>\n",
       "    .dataframe tbody tr th:only-of-type {\n",
       "        vertical-align: middle;\n",
       "    }\n",
       "\n",
       "    .dataframe tbody tr th {\n",
       "        vertical-align: top;\n",
       "    }\n",
       "\n",
       "    .dataframe thead th {\n",
       "        text-align: right;\n",
       "    }\n",
       "</style>\n",
       "<table border=\"1\" class=\"dataframe\">\n",
       "  <thead>\n",
       "    <tr style=\"text-align: right;\">\n",
       "      <th></th>\n",
       "      <th>Year_Birth</th>\n",
       "      <th>Education</th>\n",
       "      <th>Marital_Status</th>\n",
       "      <th>Income</th>\n",
       "      <th>Kidhome</th>\n",
       "      <th>Teenhome</th>\n",
       "      <th>Dt_Customer</th>\n",
       "      <th>Recency</th>\n",
       "      <th>MntWines</th>\n",
       "      <th>MntFruits</th>\n",
       "      <th>...</th>\n",
       "      <th>NumWebVisitsMonth</th>\n",
       "      <th>AcceptedCmp3</th>\n",
       "      <th>AcceptedCmp4</th>\n",
       "      <th>AcceptedCmp5</th>\n",
       "      <th>AcceptedCmp1</th>\n",
       "      <th>AcceptedCmp2</th>\n",
       "      <th>Complain</th>\n",
       "      <th>Z_CostContact</th>\n",
       "      <th>Z_Revenue</th>\n",
       "      <th>Response</th>\n",
       "    </tr>\n",
       "    <tr>\n",
       "      <th>ID</th>\n",
       "      <th></th>\n",
       "      <th></th>\n",
       "      <th></th>\n",
       "      <th></th>\n",
       "      <th></th>\n",
       "      <th></th>\n",
       "      <th></th>\n",
       "      <th></th>\n",
       "      <th></th>\n",
       "      <th></th>\n",
       "      <th></th>\n",
       "      <th></th>\n",
       "      <th></th>\n",
       "      <th></th>\n",
       "      <th></th>\n",
       "      <th></th>\n",
       "      <th></th>\n",
       "      <th></th>\n",
       "      <th></th>\n",
       "      <th></th>\n",
       "      <th></th>\n",
       "    </tr>\n",
       "  </thead>\n",
       "  <tbody>\n",
       "    <tr>\n",
       "      <th>5524</th>\n",
       "      <td>1957</td>\n",
       "      <td>Graduation</td>\n",
       "      <td>Single</td>\n",
       "      <td>58138.0</td>\n",
       "      <td>0</td>\n",
       "      <td>0</td>\n",
       "      <td>2012-04-09</td>\n",
       "      <td>58</td>\n",
       "      <td>635</td>\n",
       "      <td>88</td>\n",
       "      <td>...</td>\n",
       "      <td>7</td>\n",
       "      <td>0</td>\n",
       "      <td>0</td>\n",
       "      <td>0</td>\n",
       "      <td>0</td>\n",
       "      <td>0</td>\n",
       "      <td>0</td>\n",
       "      <td>3</td>\n",
       "      <td>11</td>\n",
       "      <td>1</td>\n",
       "    </tr>\n",
       "    <tr>\n",
       "      <th>2174</th>\n",
       "      <td>1954</td>\n",
       "      <td>Graduation</td>\n",
       "      <td>Single</td>\n",
       "      <td>46344.0</td>\n",
       "      <td>1</td>\n",
       "      <td>1</td>\n",
       "      <td>2014-08-03</td>\n",
       "      <td>38</td>\n",
       "      <td>11</td>\n",
       "      <td>1</td>\n",
       "      <td>...</td>\n",
       "      <td>5</td>\n",
       "      <td>0</td>\n",
       "      <td>0</td>\n",
       "      <td>0</td>\n",
       "      <td>0</td>\n",
       "      <td>0</td>\n",
       "      <td>0</td>\n",
       "      <td>3</td>\n",
       "      <td>11</td>\n",
       "      <td>0</td>\n",
       "    </tr>\n",
       "    <tr>\n",
       "      <th>4141</th>\n",
       "      <td>1965</td>\n",
       "      <td>Graduation</td>\n",
       "      <td>Together</td>\n",
       "      <td>71613.0</td>\n",
       "      <td>0</td>\n",
       "      <td>0</td>\n",
       "      <td>2013-08-21</td>\n",
       "      <td>26</td>\n",
       "      <td>426</td>\n",
       "      <td>49</td>\n",
       "      <td>...</td>\n",
       "      <td>4</td>\n",
       "      <td>0</td>\n",
       "      <td>0</td>\n",
       "      <td>0</td>\n",
       "      <td>0</td>\n",
       "      <td>0</td>\n",
       "      <td>0</td>\n",
       "      <td>3</td>\n",
       "      <td>11</td>\n",
       "      <td>0</td>\n",
       "    </tr>\n",
       "    <tr>\n",
       "      <th>6182</th>\n",
       "      <td>1984</td>\n",
       "      <td>Graduation</td>\n",
       "      <td>Together</td>\n",
       "      <td>26646.0</td>\n",
       "      <td>1</td>\n",
       "      <td>0</td>\n",
       "      <td>2014-10-02</td>\n",
       "      <td>26</td>\n",
       "      <td>11</td>\n",
       "      <td>4</td>\n",
       "      <td>...</td>\n",
       "      <td>6</td>\n",
       "      <td>0</td>\n",
       "      <td>0</td>\n",
       "      <td>0</td>\n",
       "      <td>0</td>\n",
       "      <td>0</td>\n",
       "      <td>0</td>\n",
       "      <td>3</td>\n",
       "      <td>11</td>\n",
       "      <td>0</td>\n",
       "    </tr>\n",
       "    <tr>\n",
       "      <th>5324</th>\n",
       "      <td>1981</td>\n",
       "      <td>PhD</td>\n",
       "      <td>Married</td>\n",
       "      <td>58293.0</td>\n",
       "      <td>1</td>\n",
       "      <td>0</td>\n",
       "      <td>2014-01-19</td>\n",
       "      <td>94</td>\n",
       "      <td>173</td>\n",
       "      <td>43</td>\n",
       "      <td>...</td>\n",
       "      <td>5</td>\n",
       "      <td>0</td>\n",
       "      <td>0</td>\n",
       "      <td>0</td>\n",
       "      <td>0</td>\n",
       "      <td>0</td>\n",
       "      <td>0</td>\n",
       "      <td>3</td>\n",
       "      <td>11</td>\n",
       "      <td>0</td>\n",
       "    </tr>\n",
       "  </tbody>\n",
       "</table>\n",
       "<p>5 rows × 28 columns</p>\n",
       "</div>"
      ],
      "text/plain": [
       "      Year_Birth   Education Marital_Status   Income  Kidhome  Teenhome  \\\n",
       "ID                                                                        \n",
       "5524        1957  Graduation         Single  58138.0        0         0   \n",
       "2174        1954  Graduation         Single  46344.0        1         1   \n",
       "4141        1965  Graduation       Together  71613.0        0         0   \n",
       "6182        1984  Graduation       Together  26646.0        1         0   \n",
       "5324        1981         PhD        Married  58293.0        1         0   \n",
       "\n",
       "     Dt_Customer  Recency  MntWines  MntFruits  ...  NumWebVisitsMonth  \\\n",
       "ID                                              ...                      \n",
       "5524  2012-04-09       58       635         88  ...                  7   \n",
       "2174  2014-08-03       38        11          1  ...                  5   \n",
       "4141  2013-08-21       26       426         49  ...                  4   \n",
       "6182  2014-10-02       26        11          4  ...                  6   \n",
       "5324  2014-01-19       94       173         43  ...                  5   \n",
       "\n",
       "      AcceptedCmp3  AcceptedCmp4  AcceptedCmp5  AcceptedCmp1  AcceptedCmp2  \\\n",
       "ID                                                                           \n",
       "5524             0             0             0             0             0   \n",
       "2174             0             0             0             0             0   \n",
       "4141             0             0             0             0             0   \n",
       "6182             0             0             0             0             0   \n",
       "5324             0             0             0             0             0   \n",
       "\n",
       "      Complain  Z_CostContact  Z_Revenue  Response  \n",
       "ID                                                  \n",
       "5524         0              3         11         1  \n",
       "2174         0              3         11         0  \n",
       "4141         0              3         11         0  \n",
       "6182         0              3         11         0  \n",
       "5324         0              3         11         0  \n",
       "\n",
       "[5 rows x 28 columns]"
      ]
     },
     "execution_count": 143,
     "metadata": {},
     "output_type": "execute_result"
    }
   ],
   "source": [
    "customer_df.head()"
   ]
  },
  {
   "cell_type": "code",
   "execution_count": null,
   "id": "unlike-capital",
   "metadata": {},
   "outputs": [],
   "source": []
  },
  {
   "cell_type": "code",
   "execution_count": 5,
   "id": "increased-tunnel",
   "metadata": {},
   "outputs": [],
   "source": [
    "def extract_age(current_year, birth_year)->pd.Series:\n",
    "    \"\"\"\n",
    "    Function gets current year and column of customers' birth year \n",
    "    Returns pd.Series with customers' age\n",
    "    \"\"\"\n",
    "    \n",
    "    age = pd.Series(current_year - birth_year)\n",
    "    return age"
   ]
  },
  {
   "cell_type": "code",
   "execution_count": 6,
   "id": "enhanced-taste",
   "metadata": {},
   "outputs": [],
   "source": [
    "customer_df['Age'] = extract_age(2020, customer_df['Year_Birth'])"
   ]
  },
  {
   "cell_type": "code",
   "execution_count": 7,
   "id": "overall-transsexual",
   "metadata": {},
   "outputs": [
    {
     "data": {
      "text/plain": [
       "count    2240.000000\n",
       "mean       51.194196\n",
       "std        11.984069\n",
       "min        24.000000\n",
       "25%        43.000000\n",
       "50%        50.000000\n",
       "75%        61.000000\n",
       "max       127.000000\n",
       "Name: Age, dtype: float64"
      ]
     },
     "execution_count": 7,
     "metadata": {},
     "output_type": "execute_result"
    }
   ],
   "source": [
    "customer_df['Age'].describe()"
   ]
  },
  {
   "cell_type": "markdown",
   "id": "conditional-sense",
   "metadata": {},
   "source": [
    "As we can see, some customers in our dataset are quite old :)"
   ]
  },
  {
   "cell_type": "code",
   "execution_count": 8,
   "id": "planned-helping",
   "metadata": {},
   "outputs": [
    {
     "data": {
      "text/plain": [
       "Year_Birth              0\n",
       "Education               0\n",
       "Marital_Status          0\n",
       "Income                 24\n",
       "Kidhome                 0\n",
       "Teenhome                0\n",
       "Dt_Customer             0\n",
       "Recency                 0\n",
       "MntWines                0\n",
       "MntFruits               0\n",
       "MntMeatProducts         0\n",
       "MntFishProducts         0\n",
       "MntSweetProducts        0\n",
       "MntGoldProds            0\n",
       "NumDealsPurchases       0\n",
       "NumWebPurchases         0\n",
       "NumCatalogPurchases     0\n",
       "NumStorePurchases       0\n",
       "NumWebVisitsMonth       0\n",
       "AcceptedCmp3            0\n",
       "AcceptedCmp4            0\n",
       "AcceptedCmp5            0\n",
       "AcceptedCmp1            0\n",
       "AcceptedCmp2            0\n",
       "Complain                0\n",
       "Z_CostContact           0\n",
       "Z_Revenue               0\n",
       "Response                0\n",
       "Age                     0\n",
       "dtype: int64"
      ]
     },
     "execution_count": 8,
     "metadata": {},
     "output_type": "execute_result"
    }
   ],
   "source": [
    "customer_df.isna().sum()"
   ]
  },
  {
   "cell_type": "raw",
   "id": "boxed-bidding",
   "metadata": {},
   "source": [
    "There is missed data in Income column"
   ]
  },
  {
   "cell_type": "code",
   "execution_count": 9,
   "id": "former-central",
   "metadata": {},
   "outputs": [
    {
     "data": {
      "text/plain": [
       "<seaborn.axisgrid.FacetGrid at 0x1f298a27760>"
      ]
     },
     "execution_count": 9,
     "metadata": {},
     "output_type": "execute_result"
    },
    {
     "data": {
      "image/png": "[encoded data removed]",
      "text/plain": [
       "<Figure size 360x360 with 1 Axes>"
      ]
     },
     "metadata": {
      "needs_background": "light"
     },
     "output_type": "display_data"
    }
   ],
   "source": [
    "sns.displot(customer_df['Age'], kde=True)"
   ]
  },
  {
   "cell_type": "markdown",
   "id": "concrete-update",
   "metadata": {},
   "source": [
    "Normally distributed values but there are too high"
   ]
  },
  {
   "cell_type": "code",
   "execution_count": 10,
   "id": "challenging-aberdeen",
   "metadata": {},
   "outputs": [
    {
     "data": {
      "text/plain": [
       "array(['Graduation', 'PhD', 'Master', 'Basic', '2n Cycle'], dtype=object)"
      ]
     },
     "execution_count": 10,
     "metadata": {},
     "output_type": "execute_result"
    }
   ],
   "source": [
    "customer_df['Education'].unique()"
   ]
  },
  {
   "cell_type": "code",
   "execution_count": 11,
   "id": "designing-philip",
   "metadata": {},
   "outputs": [
    {
     "data": {
      "text/plain": [
       "array(['Single', 'Together', 'Married', 'Divorced', 'Widow', 'Alone',\n",
       "       'Absurd', 'YOLO'], dtype=object)"
      ]
     },
     "execution_count": 11,
     "metadata": {},
     "output_type": "execute_result"
    }
   ],
   "source": [
    "customer_df['Marital_Status'].unique()"
   ]
  },
  {
   "cell_type": "code",
   "execution_count": 12,
   "id": "blessed-harvest",
   "metadata": {},
   "outputs": [
    {
     "data": {
      "text/plain": [
       "<seaborn.axisgrid.FacetGrid at 0x1f29abb6a90>"
      ]
     },
     "execution_count": 12,
     "metadata": {},
     "output_type": "execute_result"
    },
    {
     "data": {
      "image/png": "[encoded data removed]",
      "text/plain": [
       "<Figure size 360x360 with 1 Axes>"
      ]
     },
     "metadata": {
      "needs_background": "light"
     },
     "output_type": "display_data"
    }
   ],
   "source": [
    "sns.displot(customer_df['Income'])"
   ]
  },
  {
   "cell_type": "markdown",
   "id": "drawn-marriage",
   "metadata": {},
   "source": [
    "Present income values over 600 000"
   ]
  },
  {
   "cell_type": "markdown",
   "id": "derived-reference",
   "metadata": {},
   "source": [
    "<h3>Get rid of too high age data (>100) and data without income (there is only 24 of them so we may neglect this data)</h3>"
   ]
  },
  {
   "cell_type": "code",
   "execution_count": 13,
   "id": "painful-field",
   "metadata": {},
   "outputs": [],
   "source": [
    "customer_df = customer_df[(customer_df['Age'] < 100) & (~customer_df['Income'].isna())]"
   ]
  },
  {
   "cell_type": "markdown",
   "id": "precious-knowing",
   "metadata": {},
   "source": [
    "<h2>Mean Income by Age</h2>"
   ]
  },
  {
   "cell_type": "code",
   "execution_count": 14,
   "id": "allied-manitoba",
   "metadata": {},
   "outputs": [
    {
     "data": {
      "text/plain": [
       "<AxesSubplot:xlabel='Age', ylabel='Income'>"
      ]
     },
     "execution_count": 14,
     "metadata": {},
     "output_type": "execute_result"
    },
    {
     "data": {
      "image/png": "[encoded data removed]",
      "text/plain": [
       "<Figure size 1080x576 with 1 Axes>"
      ]
     },
     "metadata": {},
     "output_type": "display_data"
    }
   ],
   "source": [
    "sns.set_style('darkgrid')\n",
    "plt.figure(figsize=(15,8))\n",
    "sns.barplot(x='Age', y='Income', data=customer_df)"
   ]
  },
  {
   "cell_type": "markdown",
   "id": "interpreted-louisville",
   "metadata": {},
   "source": [
    "<h1 style='color:green;font-size:30px;padding:30px'>Data engeneering</h1>"
   ]
  },
  {
   "cell_type": "markdown",
   "id": "blessed-innocent",
   "metadata": {},
   "source": [
    "New features:\n",
    "<ul>\n",
    "    <p>     Money spent on food</p>\n",
    "    <li>MntFood = MntWines + MntFruits + MntMeatProducts + MntFishProducts + MntSweetProducts</li>\n",
    "    <p>     Number accepted offers</p>\n",
    "    <li>AcceptedNum = sum(AcceptedCmp1..5)</li>\n",
    "    <p>     Number of purchases</p>\n",
    "    <li>AcceptedNum = sum(..Purchases)</li>\n",
    "    <p>     Number of years as customer</p>\n",
    "    <li>AcceptedNum = current_year - Dt_Customer.year</li>\n",
    "</ul>"
   ]
  },
  {
   "cell_type": "code",
   "execution_count": 15,
   "id": "ruled-terrorism",
   "metadata": {},
   "outputs": [],
   "source": [
    "def sum_values(df, cols_names)->pd.Series:\n",
    "    \"\"\"\n",
    "    Function gets pd.DataFrame of data and list of columns names to add\n",
    "    Returns pd.Series with the sum of given columns \n",
    "    \"\"\"\n",
    "    \n",
    "    res = df[cols_names[0]]\n",
    "    for i in range(1, len(cols_names)):\n",
    "        res += df[cols_names[i]]\n",
    "        \n",
    "    return res"
   ]
  },
  {
   "cell_type": "code",
   "execution_count": 16,
   "id": "cloudy-surge",
   "metadata": {},
   "outputs": [
    {
     "data": {
      "text/plain": [
       "count    2213.000000\n",
       "mean      563.110258\n",
       "std       576.907087\n",
       "min         4.000000\n",
       "25%        55.000000\n",
       "50%       343.000000\n",
       "75%       964.000000\n",
       "max      2491.000000\n",
       "Name: MntFood, dtype: float64"
      ]
     },
     "execution_count": 16,
     "metadata": {},
     "output_type": "execute_result"
    }
   ],
   "source": [
    "customer_df['MntFood'] = sum_values(customer_df, ['MntWines', 'MntFruits', 'MntMeatProducts', \n",
    "                                                  'MntFishProducts', 'MntSweetProducts'])\n",
    "customer_df['MntFood'].describe()"
   ]
  },
  {
   "cell_type": "code",
   "execution_count": 17,
   "id": "mobile-huntington",
   "metadata": {},
   "outputs": [
    {
     "data": {
      "text/plain": [
       "count    2213.000000\n",
       "mean        0.298238\n",
       "std         0.679446\n",
       "min         0.000000\n",
       "25%         0.000000\n",
       "50%         0.000000\n",
       "75%         0.000000\n",
       "max         4.000000\n",
       "Name: AcceptedNum, dtype: float64"
      ]
     },
     "execution_count": 17,
     "metadata": {},
     "output_type": "execute_result"
    }
   ],
   "source": [
    "customer_df['AcceptedNum'] = sum_values(customer_df, ['AcceptedCmp' + str(i) for i in range(1,6)])\n",
    "customer_df['AcceptedNum'].describe()"
   ]
  },
  {
   "cell_type": "code",
   "execution_count": 18,
   "id": "ranging-vampire",
   "metadata": {},
   "outputs": [
    {
     "data": {
      "text/plain": [
       "count    2213.000000\n",
       "mean       14.889742\n",
       "std         7.670341\n",
       "min         0.000000\n",
       "25%         8.000000\n",
       "50%        15.000000\n",
       "75%        21.000000\n",
       "max        44.000000\n",
       "Name: TotalPurchases, dtype: float64"
      ]
     },
     "execution_count": 18,
     "metadata": {},
     "output_type": "execute_result"
    }
   ],
   "source": [
    "customer_df['TotalPurchases'] = sum_values(customer_df, ['NumDealsPurchases', 'NumWebPurchases', 'NumCatalogPurchases',\n",
    "                                                        'NumStorePurchases'])\n",
    "customer_df['TotalPurchases'].describe()"
   ]
  },
  {
   "cell_type": "code",
   "execution_count": 19,
   "id": "sorted-moscow",
   "metadata": {},
   "outputs": [
    {
     "data": {
      "text/plain": [
       "count    2213.000000\n",
       "mean        6.971984\n",
       "std         0.685771\n",
       "min         6.000000\n",
       "25%         7.000000\n",
       "50%         7.000000\n",
       "75%         7.000000\n",
       "max         8.000000\n",
       "Name: YearsAsCustomer, dtype: float64"
      ]
     },
     "execution_count": 19,
     "metadata": {},
     "output_type": "execute_result"
    }
   ],
   "source": [
    "customer_df['YearsAsCustomer'] = 2020 - customer_df['Dt_Customer'].dt.year\n",
    "customer_df['YearsAsCustomer'].describe()"
   ]
  },
  {
   "cell_type": "code",
   "execution_count": 20,
   "id": "challenging-feature",
   "metadata": {},
   "outputs": [
    {
     "data": {
      "text/plain": [
       "0    1880\n",
       "1     333\n",
       "Name: Response, dtype: int64"
      ]
     },
     "execution_count": 20,
     "metadata": {},
     "output_type": "execute_result"
    }
   ],
   "source": [
    "customer_df['Response'].value_counts()"
   ]
  },
  {
   "cell_type": "code",
   "execution_count": 21,
   "id": "warming-reflection",
   "metadata": {},
   "outputs": [
    {
     "data": {
      "text/plain": [
       "3     484\n",
       "4     318\n",
       "2     218\n",
       "5     211\n",
       "6     177\n",
       "8     147\n",
       "7     141\n",
       "10    124\n",
       "9     106\n",
       "12    104\n",
       "13     83\n",
       "11     80\n",
       "0      14\n",
       "1       6\n",
       "Name: NumStorePurchases, dtype: int64"
      ]
     },
     "execution_count": 21,
     "metadata": {},
     "output_type": "execute_result"
    }
   ],
   "source": [
    "customer_df['NumStorePurchases'].value_counts()"
   ]
  },
  {
   "cell_type": "code",
   "execution_count": 22,
   "id": "crude-prediction",
   "metadata": {},
   "outputs": [
    {
     "data": {
      "image/png": "[encoded data removed]",
      "text/plain": [
       "<Figure size 432x288 with 1 Axes>"
      ]
     },
     "metadata": {},
     "output_type": "display_data"
    }
   ],
   "source": [
    "hist = sns.histplot(customer_df['NumStorePurchases'], bins=30)\n",
    "hist.set(ylabel='Frequency')\n",
    "plt.show()"
   ]
  },
  {
   "cell_type": "code",
   "execution_count": 23,
   "id": "varied-vision",
   "metadata": {},
   "outputs": [
    {
     "data": {
      "image/png": "[encoded data removed]",
      "text/plain": [
       "<Figure size 432x288 with 1 Axes>"
      ]
     },
     "metadata": {},
     "output_type": "display_data"
    }
   ],
   "source": [
    "box = sns.boxplot(y=customer_df['NumStorePurchases'])\n",
    "box.set_yticks(range(-3, 16,1))\n",
    "plt.show()"
   ]
  },
  {
   "cell_type": "code",
   "execution_count": 24,
   "id": "painted-hammer",
   "metadata": {},
   "outputs": [],
   "source": [
    "target = customer_df['Response']\n",
    "relevant_data = customer_df.drop(['Year_Birth', 'Z_CostContact', 'Response', 'Z_Revenue', 'Dt_Customer'], axis=1)"
   ]
  },
  {
   "cell_type": "code",
   "execution_count": 25,
   "id": "acquired-sheep",
   "metadata": {},
   "outputs": [
    {
     "data": {
      "image/png": "[encoded data removed]",
      "text/plain": [
       "<Figure size 1152x1152 with 2 Axes>"
      ]
     },
     "metadata": {},
     "output_type": "display_data"
    }
   ],
   "source": [
    "plt.figure(figsize=(16,16))\n",
    "sns.heatmap(relevant_data.corr(), cmap=\"YlGnBu\")\n",
    "plt.show()"
   ]
  },
  {
   "cell_type": "markdown",
   "id": "czech-attack",
   "metadata": {},
   "source": [
    "TotalPurchases positively correlated to different types of purchases <br>\n",
    "Income negatively correlated to amount of kids/dependants and NumWebVisitsMonth"
   ]
  },
  {
   "cell_type": "code",
   "execution_count": 26,
   "id": "tender-macintosh",
   "metadata": {},
   "outputs": [],
   "source": [
    "target = relevant_data['NumStorePurchases']\n",
    "relevant_data = relevant_data.drop(['TotalPurchases', 'NumStorePurchases'] ,axis=1)"
   ]
  },
  {
   "cell_type": "code",
   "execution_count": 27,
   "id": "packed-washer",
   "metadata": {},
   "outputs": [
    {
     "data": {
      "text/plain": [
       "Education         object\n",
       "Marital_Status    object\n",
       "dtype: object"
      ]
     },
     "execution_count": 27,
     "metadata": {},
     "output_type": "execute_result"
    }
   ],
   "source": [
    "relevant_data.dtypes[relevant_data.dtypes == 'O']"
   ]
  },
  {
   "cell_type": "code",
   "execution_count": 28,
   "id": "emotional-individual",
   "metadata": {},
   "outputs": [],
   "source": [
    "def fill_categorical(column: pd.Series) -> pd.Series: \n",
    "    \"\"\"\n",
    "    Function gets column of categorical data \n",
    "    Returns numeric version of given column\n",
    "    \"\"\"\n",
    "    \n",
    "    col = column\n",
    "    un = col.unique()\n",
    "    replace_dict = {un[i]:i for i in range(len(un))}\n",
    "    \n",
    "    col = col.replace(replace_dict)\n",
    "    return col\n",
    "    "
   ]
  },
  {
   "cell_type": "code",
   "execution_count": 29,
   "id": "separate-salmon",
   "metadata": {},
   "outputs": [],
   "source": [
    "relevant_data['Education'] = fill_categorical(relevant_data['Education'])"
   ]
  },
  {
   "cell_type": "code",
   "execution_count": 30,
   "id": "demanding-preview",
   "metadata": {},
   "outputs": [],
   "source": [
    "relevant_data['Marital_Status'] = fill_categorical(relevant_data['Marital_Status'])"
   ]
  },
  {
   "cell_type": "code",
   "execution_count": 31,
   "id": "imperial-pastor",
   "metadata": {},
   "outputs": [],
   "source": [
    "split_point = int(relevant_data.shape[0]*0.7)"
   ]
  },
  {
   "cell_type": "code",
   "execution_count": 32,
   "id": "sporting-publicity",
   "metadata": {},
   "outputs": [],
   "source": [
    "train = relevant_data.iloc[:split_point].reset_index().drop('ID', axis=1)\n",
    "train_target = target[:split_point].reset_index().drop('ID', axis=1)\n",
    "test = relevant_data.iloc[split_point:].reset_index().drop('ID', axis=1)\n",
    "test_target = target[split_point:].reset_index().drop('ID', axis=1)"
   ]
  },
  {
   "cell_type": "code",
   "execution_count": 33,
   "id": "similar-canon",
   "metadata": {},
   "outputs": [
    {
     "data": {
      "text/html": [
       "<div>\n",
       "<style scoped>\n",
       "    .dataframe tbody tr th:only-of-type {\n",
       "        vertical-align: middle;\n",
       "    }\n",
       "\n",
       "    .dataframe tbody tr th {\n",
       "        vertical-align: top;\n",
       "    }\n",
       "\n",
       "    .dataframe thead th {\n",
       "        text-align: right;\n",
       "    }\n",
       "</style>\n",
       "<table border=\"1\" class=\"dataframe\">\n",
       "  <thead>\n",
       "    <tr style=\"text-align: right;\">\n",
       "      <th></th>\n",
       "      <th>Education</th>\n",
       "      <th>Marital_Status</th>\n",
       "      <th>Income</th>\n",
       "      <th>Kidhome</th>\n",
       "      <th>Teenhome</th>\n",
       "      <th>Recency</th>\n",
       "      <th>MntWines</th>\n",
       "      <th>MntFruits</th>\n",
       "      <th>MntMeatProducts</th>\n",
       "      <th>MntFishProducts</th>\n",
       "      <th>...</th>\n",
       "      <th>AcceptedCmp3</th>\n",
       "      <th>AcceptedCmp4</th>\n",
       "      <th>AcceptedCmp5</th>\n",
       "      <th>AcceptedCmp1</th>\n",
       "      <th>AcceptedCmp2</th>\n",
       "      <th>Complain</th>\n",
       "      <th>Age</th>\n",
       "      <th>MntFood</th>\n",
       "      <th>AcceptedNum</th>\n",
       "      <th>YearsAsCustomer</th>\n",
       "    </tr>\n",
       "  </thead>\n",
       "  <tbody>\n",
       "    <tr>\n",
       "      <th>0</th>\n",
       "      <td>0</td>\n",
       "      <td>0</td>\n",
       "      <td>58138.0</td>\n",
       "      <td>0</td>\n",
       "      <td>0</td>\n",
       "      <td>58</td>\n",
       "      <td>1529</td>\n",
       "      <td>88</td>\n",
       "      <td>546</td>\n",
       "      <td>172</td>\n",
       "      <td>...</td>\n",
       "      <td>0</td>\n",
       "      <td>0</td>\n",
       "      <td>0</td>\n",
       "      <td>0</td>\n",
       "      <td>0</td>\n",
       "      <td>0</td>\n",
       "      <td>63</td>\n",
       "      <td>1529</td>\n",
       "      <td>0</td>\n",
       "      <td>8</td>\n",
       "    </tr>\n",
       "    <tr>\n",
       "      <th>1</th>\n",
       "      <td>0</td>\n",
       "      <td>0</td>\n",
       "      <td>46344.0</td>\n",
       "      <td>1</td>\n",
       "      <td>1</td>\n",
       "      <td>38</td>\n",
       "      <td>21</td>\n",
       "      <td>1</td>\n",
       "      <td>6</td>\n",
       "      <td>2</td>\n",
       "      <td>...</td>\n",
       "      <td>0</td>\n",
       "      <td>0</td>\n",
       "      <td>0</td>\n",
       "      <td>0</td>\n",
       "      <td>0</td>\n",
       "      <td>0</td>\n",
       "      <td>66</td>\n",
       "      <td>21</td>\n",
       "      <td>0</td>\n",
       "      <td>6</td>\n",
       "    </tr>\n",
       "    <tr>\n",
       "      <th>2</th>\n",
       "      <td>0</td>\n",
       "      <td>1</td>\n",
       "      <td>71613.0</td>\n",
       "      <td>0</td>\n",
       "      <td>0</td>\n",
       "      <td>26</td>\n",
       "      <td>734</td>\n",
       "      <td>49</td>\n",
       "      <td>127</td>\n",
       "      <td>111</td>\n",
       "      <td>...</td>\n",
       "      <td>0</td>\n",
       "      <td>0</td>\n",
       "      <td>0</td>\n",
       "      <td>0</td>\n",
       "      <td>0</td>\n",
       "      <td>0</td>\n",
       "      <td>55</td>\n",
       "      <td>734</td>\n",
       "      <td>0</td>\n",
       "      <td>7</td>\n",
       "    </tr>\n",
       "    <tr>\n",
       "      <th>3</th>\n",
       "      <td>0</td>\n",
       "      <td>1</td>\n",
       "      <td>26646.0</td>\n",
       "      <td>1</td>\n",
       "      <td>0</td>\n",
       "      <td>26</td>\n",
       "      <td>48</td>\n",
       "      <td>4</td>\n",
       "      <td>20</td>\n",
       "      <td>10</td>\n",
       "      <td>...</td>\n",
       "      <td>0</td>\n",
       "      <td>0</td>\n",
       "      <td>0</td>\n",
       "      <td>0</td>\n",
       "      <td>0</td>\n",
       "      <td>0</td>\n",
       "      <td>36</td>\n",
       "      <td>48</td>\n",
       "      <td>0</td>\n",
       "      <td>6</td>\n",
       "    </tr>\n",
       "    <tr>\n",
       "      <th>4</th>\n",
       "      <td>1</td>\n",
       "      <td>2</td>\n",
       "      <td>58293.0</td>\n",
       "      <td>1</td>\n",
       "      <td>0</td>\n",
       "      <td>94</td>\n",
       "      <td>407</td>\n",
       "      <td>43</td>\n",
       "      <td>118</td>\n",
       "      <td>46</td>\n",
       "      <td>...</td>\n",
       "      <td>0</td>\n",
       "      <td>0</td>\n",
       "      <td>0</td>\n",
       "      <td>0</td>\n",
       "      <td>0</td>\n",
       "      <td>0</td>\n",
       "      <td>39</td>\n",
       "      <td>407</td>\n",
       "      <td>0</td>\n",
       "      <td>6</td>\n",
       "    </tr>\n",
       "  </tbody>\n",
       "</table>\n",
       "<p>5 rows × 26 columns</p>\n",
       "</div>"
      ],
      "text/plain": [
       "   Education  Marital_Status   Income  Kidhome  Teenhome  Recency  MntWines  \\\n",
       "0          0               0  58138.0        0         0       58      1529   \n",
       "1          0               0  46344.0        1         1       38        21   \n",
       "2          0               1  71613.0        0         0       26       734   \n",
       "3          0               1  26646.0        1         0       26        48   \n",
       "4          1               2  58293.0        1         0       94       407   \n",
       "\n",
       "   MntFruits  MntMeatProducts  MntFishProducts  ...  AcceptedCmp3  \\\n",
       "0         88              546              172  ...             0   \n",
       "1          1                6                2  ...             0   \n",
       "2         49              127              111  ...             0   \n",
       "3          4               20               10  ...             0   \n",
       "4         43              118               46  ...             0   \n",
       "\n",
       "   AcceptedCmp4  AcceptedCmp5  AcceptedCmp1  AcceptedCmp2  Complain  Age  \\\n",
       "0             0             0             0             0         0   63   \n",
       "1             0             0             0             0         0   66   \n",
       "2             0             0             0             0         0   55   \n",
       "3             0             0             0             0         0   36   \n",
       "4             0             0             0             0         0   39   \n",
       "\n",
       "   MntFood  AcceptedNum  YearsAsCustomer  \n",
       "0     1529            0                8  \n",
       "1       21            0                6  \n",
       "2      734            0                7  \n",
       "3       48            0                6  \n",
       "4      407            0                6  \n",
       "\n",
       "[5 rows x 26 columns]"
      ]
     },
     "execution_count": 33,
     "metadata": {},
     "output_type": "execute_result"
    }
   ],
   "source": [
    "import statsmodels.api as sm\n",
    "train.head()"
   ]
  },
  {
   "cell_type": "code",
   "execution_count": 34,
   "id": "loved-example",
   "metadata": {},
   "outputs": [],
   "source": [
    "train_data = sm.add_constant(train)\n",
    "est = sm.OLS(train_target, train_data).fit()"
   ]
  },
  {
   "cell_type": "code",
   "execution_count": 35,
   "id": "stunning-keeping",
   "metadata": {},
   "outputs": [
    {
     "data": {
      "text/html": [
       "<table class=\"simpletable\">\n",
       "<caption>OLS Regression Results</caption>\n",
       "<tr>\n",
       "  <th>Dep. Variable:</th>    <td>NumStorePurchases</td> <th>  R-squared:         </th> <td>   0.880</td>\n",
       "</tr>\n",
       "<tr>\n",
       "  <th>Model:</th>                   <td>OLS</td>        <th>  Adj. R-squared:    </th> <td>   0.878</td>\n",
       "</tr>\n",
       "<tr>\n",
       "  <th>Method:</th>             <td>Least Squares</td>   <th>  F-statistic:       </th> <td>   463.9</td>\n",
       "</tr>\n",
       "<tr>\n",
       "  <th>Date:</th>             <td>Thu, 04 Nov 2021</td>  <th>  Prob (F-statistic):</th>  <td>  0.00</td> \n",
       "</tr>\n",
       "<tr>\n",
       "  <th>Time:</th>                 <td>16:30:06</td>      <th>  Log-Likelihood:    </th> <td> -2375.2</td>\n",
       "</tr>\n",
       "<tr>\n",
       "  <th>No. Observations:</th>      <td>  1549</td>       <th>  AIC:               </th> <td>   4800.</td>\n",
       "</tr>\n",
       "<tr>\n",
       "  <th>Df Residuals:</th>          <td>  1524</td>       <th>  BIC:               </th> <td>   4934.</td>\n",
       "</tr>\n",
       "<tr>\n",
       "  <th>Df Model:</th>              <td>    24</td>       <th>                     </th>     <td> </td>   \n",
       "</tr>\n",
       "<tr>\n",
       "  <th>Covariance Type:</th>      <td>nonrobust</td>     <th>                     </th>     <td> </td>   \n",
       "</tr>\n",
       "</table>\n",
       "<table class=\"simpletable\">\n",
       "<tr>\n",
       "           <td></td>              <th>coef</th>     <th>std err</th>      <th>t</th>      <th>P>|t|</th>  <th>[0.025</th>    <th>0.975]</th>  \n",
       "</tr>\n",
       "<tr>\n",
       "  <th>const</th>               <td>    2.1852</td> <td>    0.378</td> <td>    5.776</td> <td> 0.000</td> <td>    1.443</td> <td>    2.927</td>\n",
       "</tr>\n",
       "<tr>\n",
       "  <th>Education</th>           <td>   -0.0250</td> <td>    0.023</td> <td>   -1.090</td> <td> 0.276</td> <td>   -0.070</td> <td>    0.020</td>\n",
       "</tr>\n",
       "<tr>\n",
       "  <th>Marital_Status</th>      <td>   -0.0095</td> <td>    0.028</td> <td>   -0.340</td> <td> 0.734</td> <td>   -0.064</td> <td>    0.045</td>\n",
       "</tr>\n",
       "<tr>\n",
       "  <th>Income</th>              <td> 1.352e-05</td> <td>  2.8e-06</td> <td>    4.827</td> <td> 0.000</td> <td> 8.03e-06</td> <td>  1.9e-05</td>\n",
       "</tr>\n",
       "<tr>\n",
       "  <th>Kidhome</th>             <td>   -0.8956</td> <td>    0.069</td> <td>  -12.895</td> <td> 0.000</td> <td>   -1.032</td> <td>   -0.759</td>\n",
       "</tr>\n",
       "<tr>\n",
       "  <th>Teenhome</th>            <td>   -0.7037</td> <td>    0.066</td> <td>  -10.704</td> <td> 0.000</td> <td>   -0.833</td> <td>   -0.575</td>\n",
       "</tr>\n",
       "<tr>\n",
       "  <th>Recency</th>             <td>   -0.0004</td> <td>    0.001</td> <td>   -0.398</td> <td> 0.691</td> <td>   -0.002</td> <td>    0.002</td>\n",
       "</tr>\n",
       "<tr>\n",
       "  <th>MntWines</th>            <td>    0.0007</td> <td> 7.84e-05</td> <td>    9.024</td> <td> 0.000</td> <td>    0.001</td> <td>    0.001</td>\n",
       "</tr>\n",
       "<tr>\n",
       "  <th>MntFruits</th>           <td>    0.0010</td> <td>    0.001</td> <td>    0.931</td> <td> 0.352</td> <td>   -0.001</td> <td>    0.003</td>\n",
       "</tr>\n",
       "<tr>\n",
       "  <th>MntMeatProducts</th>     <td>   -0.0023</td> <td>    0.000</td> <td>   -7.900</td> <td> 0.000</td> <td>   -0.003</td> <td>   -0.002</td>\n",
       "</tr>\n",
       "<tr>\n",
       "  <th>MntFishProducts</th>     <td>    0.0008</td> <td>    0.001</td> <td>    1.068</td> <td> 0.286</td> <td>   -0.001</td> <td>    0.002</td>\n",
       "</tr>\n",
       "<tr>\n",
       "  <th>MntSweetProducts</th>    <td>    0.0019</td> <td>    0.001</td> <td>    1.976</td> <td> 0.048</td> <td> 1.42e-05</td> <td>    0.004</td>\n",
       "</tr>\n",
       "<tr>\n",
       "  <th>MntGoldProds</th>        <td>   -0.0002</td> <td>    0.001</td> <td>   -0.353</td> <td> 0.724</td> <td>   -0.002</td> <td>    0.001</td>\n",
       "</tr>\n",
       "<tr>\n",
       "  <th>NumDealsPurchases</th>   <td>    0.6296</td> <td>    0.010</td> <td>   60.091</td> <td> 0.000</td> <td>    0.609</td> <td>    0.650</td>\n",
       "</tr>\n",
       "<tr>\n",
       "  <th>NumWebPurchases</th>     <td>   -0.6523</td> <td>    0.022</td> <td>  -29.323</td> <td> 0.000</td> <td>   -0.696</td> <td>   -0.609</td>\n",
       "</tr>\n",
       "<tr>\n",
       "  <th>NumCatalogPurchases</th> <td>   -0.7961</td> <td>    0.021</td> <td>  -38.608</td> <td> 0.000</td> <td>   -0.837</td> <td>   -0.756</td>\n",
       "</tr>\n",
       "<tr>\n",
       "  <th>NumWebVisitsMonth</th>   <td>   -0.2094</td> <td>    0.020</td> <td>  -10.565</td> <td> 0.000</td> <td>   -0.248</td> <td>   -0.171</td>\n",
       "</tr>\n",
       "<tr>\n",
       "  <th>AcceptedCmp3</th>        <td>   -0.3279</td> <td>    0.186</td> <td>   -1.763</td> <td> 0.078</td> <td>   -0.693</td> <td>    0.037</td>\n",
       "</tr>\n",
       "<tr>\n",
       "  <th>AcceptedCmp4</th>        <td>   -0.4662</td> <td>    0.198</td> <td>   -2.352</td> <td> 0.019</td> <td>   -0.855</td> <td>   -0.077</td>\n",
       "</tr>\n",
       "<tr>\n",
       "  <th>AcceptedCmp5</th>        <td>   -0.5009</td> <td>    0.221</td> <td>   -2.263</td> <td> 0.024</td> <td>   -0.935</td> <td>   -0.067</td>\n",
       "</tr>\n",
       "<tr>\n",
       "  <th>AcceptedCmp1</th>        <td>    0.1425</td> <td>    0.070</td> <td>    2.044</td> <td> 0.041</td> <td>    0.006</td> <td>    0.279</td>\n",
       "</tr>\n",
       "<tr>\n",
       "  <th>AcceptedCmp2</th>        <td>    0.2903</td> <td>    0.325</td> <td>    0.892</td> <td> 0.373</td> <td>   -0.348</td> <td>    0.929</td>\n",
       "</tr>\n",
       "<tr>\n",
       "  <th>Complain</th>            <td>   -0.0087</td> <td>    0.294</td> <td>   -0.030</td> <td> 0.976</td> <td>   -0.586</td> <td>    0.568</td>\n",
       "</tr>\n",
       "<tr>\n",
       "  <th>Age</th>                 <td>    0.0005</td> <td>    0.003</td> <td>    0.170</td> <td> 0.865</td> <td>   -0.005</td> <td>    0.006</td>\n",
       "</tr>\n",
       "<tr>\n",
       "  <th>MntFood</th>             <td>    0.0007</td> <td> 7.84e-05</td> <td>    9.024</td> <td> 0.000</td> <td>    0.001</td> <td>    0.001</td>\n",
       "</tr>\n",
       "<tr>\n",
       "  <th>AcceptedNum</th>         <td>    0.1425</td> <td>    0.070</td> <td>    2.044</td> <td> 0.041</td> <td>    0.006</td> <td>    0.279</td>\n",
       "</tr>\n",
       "<tr>\n",
       "  <th>YearsAsCustomer</th>     <td>   -0.0402</td> <td>    0.047</td> <td>   -0.854</td> <td> 0.393</td> <td>   -0.132</td> <td>    0.052</td>\n",
       "</tr>\n",
       "</table>\n",
       "<table class=\"simpletable\">\n",
       "<tr>\n",
       "  <th>Omnibus:</th>       <td>351.491</td> <th>  Durbin-Watson:     </th> <td>   2.071</td>\n",
       "</tr>\n",
       "<tr>\n",
       "  <th>Prob(Omnibus):</th> <td> 0.000</td>  <th>  Jarque-Bera (JB):  </th> <td>2168.710</td>\n",
       "</tr>\n",
       "<tr>\n",
       "  <th>Skew:</th>          <td>-0.910</td>  <th>  Prob(JB):          </th> <td>    0.00</td>\n",
       "</tr>\n",
       "<tr>\n",
       "  <th>Kurtosis:</th>      <td> 8.504</td>  <th>  Cond. No.          </th> <td>1.08e+16</td>\n",
       "</tr>\n",
       "</table><br/><br/>Notes:<br/>[1] Standard Errors assume that the covariance matrix of the errors is correctly specified.<br/>[2] The smallest eigenvalue is 4.19e-20. This might indicate that there are<br/>strong multicollinearity problems or that the design matrix is singular."
      ],
      "text/plain": [
       "<class 'statsmodels.iolib.summary.Summary'>\n",
       "\"\"\"\n",
       "                            OLS Regression Results                            \n",
       "==============================================================================\n",
       "Dep. Variable:      NumStorePurchases   R-squared:                       0.880\n",
       "Model:                            OLS   Adj. R-squared:                  0.878\n",
       "Method:                 Least Squares   F-statistic:                     463.9\n",
       "Date:                Thu, 04 Nov 2021   Prob (F-statistic):               0.00\n",
       "Time:                        16:30:06   Log-Likelihood:                -2375.2\n",
       "No. Observations:                1549   AIC:                             4800.\n",
       "Df Residuals:                    1524   BIC:                             4934.\n",
       "Df Model:                          24                                         \n",
       "Covariance Type:            nonrobust                                         \n",
       "=======================================================================================\n",
       "                          coef    std err          t      P>|t|      [0.025      0.975]\n",
       "---------------------------------------------------------------------------------------\n",
       "const                   2.1852      0.378      5.776      0.000       1.443       2.927\n",
       "Education              -0.0250      0.023     -1.090      0.276      -0.070       0.020\n",
       "Marital_Status         -0.0095      0.028     -0.340      0.734      -0.064       0.045\n",
       "Income               1.352e-05    2.8e-06      4.827      0.000    8.03e-06     1.9e-05\n",
       "Kidhome                -0.8956      0.069    -12.895      0.000      -1.032      -0.759\n",
       "Teenhome               -0.7037      0.066    -10.704      0.000      -0.833      -0.575\n",
       "Recency                -0.0004      0.001     -0.398      0.691      -0.002       0.002\n",
       "MntWines                0.0007   7.84e-05      9.024      0.000       0.001       0.001\n",
       "MntFruits               0.0010      0.001      0.931      0.352      -0.001       0.003\n",
       "MntMeatProducts        -0.0023      0.000     -7.900      0.000      -0.003      -0.002\n",
       "MntFishProducts         0.0008      0.001      1.068      0.286      -0.001       0.002\n",
       "MntSweetProducts        0.0019      0.001      1.976      0.048    1.42e-05       0.004\n",
       "MntGoldProds           -0.0002      0.001     -0.353      0.724      -0.002       0.001\n",
       "NumDealsPurchases       0.6296      0.010     60.091      0.000       0.609       0.650\n",
       "NumWebPurchases        -0.6523      0.022    -29.323      0.000      -0.696      -0.609\n",
       "NumCatalogPurchases    -0.7961      0.021    -38.608      0.000      -0.837      -0.756\n",
       "NumWebVisitsMonth      -0.2094      0.020    -10.565      0.000      -0.248      -0.171\n",
       "AcceptedCmp3           -0.3279      0.186     -1.763      0.078      -0.693       0.037\n",
       "AcceptedCmp4           -0.4662      0.198     -2.352      0.019      -0.855      -0.077\n",
       "AcceptedCmp5           -0.5009      0.221     -2.263      0.024      -0.935      -0.067\n",
       "AcceptedCmp1            0.1425      0.070      2.044      0.041       0.006       0.279\n",
       "AcceptedCmp2            0.2903      0.325      0.892      0.373      -0.348       0.929\n",
       "Complain               -0.0087      0.294     -0.030      0.976      -0.586       0.568\n",
       "Age                     0.0005      0.003      0.170      0.865      -0.005       0.006\n",
       "MntFood                 0.0007   7.84e-05      9.024      0.000       0.001       0.001\n",
       "AcceptedNum             0.1425      0.070      2.044      0.041       0.006       0.279\n",
       "YearsAsCustomer        -0.0402      0.047     -0.854      0.393      -0.132       0.052\n",
       "==============================================================================\n",
       "Omnibus:                      351.491   Durbin-Watson:                   2.071\n",
       "Prob(Omnibus):                  0.000   Jarque-Bera (JB):             2168.710\n",
       "Skew:                          -0.910   Prob(JB):                         0.00\n",
       "Kurtosis:                       8.504   Cond. No.                     1.08e+16\n",
       "==============================================================================\n",
       "\n",
       "Notes:\n",
       "[1] Standard Errors assume that the covariance matrix of the errors is correctly specified.\n",
       "[2] The smallest eigenvalue is 4.19e-20. This might indicate that there are\n",
       "strong multicollinearity problems or that the design matrix is singular.\n",
       "\"\"\""
      ]
     },
     "execution_count": 35,
     "metadata": {},
     "output_type": "execute_result"
    }
   ],
   "source": [
    "est.summary()"
   ]
  },
  {
   "cell_type": "code",
   "execution_count": 36,
   "id": "neutral-ridge",
   "metadata": {},
   "outputs": [],
   "source": [
    "test = sm.add_constant(test)\n",
    "predictions = est.predict(test)"
   ]
  },
  {
   "cell_type": "markdown",
   "id": "greatest-conducting",
   "metadata": {},
   "source": [
    "<h1>Top 5 significant variables</h1>"
   ]
  },
  {
   "cell_type": "code",
   "execution_count": 37,
   "id": "million-mechanics",
   "metadata": {},
   "outputs": [],
   "source": [
    "values = est.pvalues.sort_values()[1:]"
   ]
  },
  {
   "cell_type": "code",
   "execution_count": 38,
   "id": "complicated-trunk",
   "metadata": {},
   "outputs": [
    {
     "data": {
      "text/plain": [
       "NumCatalogPurchases    5.307180e-228\n",
       "NumWebPurchases        3.011629e-150\n",
       "Kidhome                 3.475120e-36\n",
       "Teenhome                7.843493e-26\n",
       "NumWebVisitsMonth       3.141656e-25\n",
       "dtype: float64"
      ]
     },
     "execution_count": 38,
     "metadata": {},
     "output_type": "execute_result"
    }
   ],
   "source": [
    "values[:5]\n",
    "#sns.barplot(values)"
   ]
  },
  {
   "cell_type": "code",
   "execution_count": 39,
   "id": "silver-kelly",
   "metadata": {},
   "outputs": [
    {
     "data": {
      "text/plain": [
       "0      10.172506\n",
       "1      11.178303\n",
       "2       2.852978\n",
       "3      10.682742\n",
       "4       2.348697\n",
       "         ...    \n",
       "659     5.420034\n",
       "660     6.700187\n",
       "661    10.817351\n",
       "662     8.860013\n",
       "663     3.733417\n",
       "Length: 664, dtype: float64"
      ]
     },
     "execution_count": 39,
     "metadata": {},
     "output_type": "execute_result"
    }
   ],
   "source": [
    "predictions"
   ]
  },
  {
   "cell_type": "code",
   "execution_count": 40,
   "id": "informative-arlington",
   "metadata": {},
   "outputs": [],
   "source": [
    "from sklearn.metrics import r2_score"
   ]
  },
  {
   "cell_type": "code",
   "execution_count": 41,
   "id": "convinced-station",
   "metadata": {},
   "outputs": [
    {
     "data": {
      "text/plain": [
       "0.8671853845562257"
      ]
     },
     "execution_count": 41,
     "metadata": {},
     "output_type": "execute_result"
    }
   ],
   "source": [
    "r2_score(test_target, predictions)"
   ]
  },
  {
   "cell_type": "code",
   "execution_count": 42,
   "id": "molecular-handbook",
   "metadata": {},
   "outputs": [],
   "source": [
    "train_data = train_data.drop(['Complain', 'Recency', 'AcceptedCmp2'], axis=1)"
   ]
  },
  {
   "cell_type": "code",
   "execution_count": 43,
   "id": "aging-freedom",
   "metadata": {},
   "outputs": [],
   "source": [
    "test = test.drop(['Complain', 'Recency', 'AcceptedCmp2'], axis=1)"
   ]
  },
  {
   "cell_type": "code",
   "execution_count": 44,
   "id": "touched-building",
   "metadata": {},
   "outputs": [],
   "source": [
    "model = sm.OLS(train_target, train_data).fit()"
   ]
  },
  {
   "cell_type": "code",
   "execution_count": 45,
   "id": "signed-detective",
   "metadata": {},
   "outputs": [
    {
     "data": {
      "text/html": [
       "<table class=\"simpletable\">\n",
       "<caption>OLS Regression Results</caption>\n",
       "<tr>\n",
       "  <th>Dep. Variable:</th>    <td>NumStorePurchases</td> <th>  R-squared:         </th> <td>   0.880</td>\n",
       "</tr>\n",
       "<tr>\n",
       "  <th>Model:</th>                   <td>OLS</td>        <th>  Adj. R-squared:    </th> <td>   0.878</td>\n",
       "</tr>\n",
       "<tr>\n",
       "  <th>Method:</th>             <td>Least Squares</td>   <th>  F-statistic:       </th> <td>   530.8</td>\n",
       "</tr>\n",
       "<tr>\n",
       "  <th>Date:</th>             <td>Thu, 04 Nov 2021</td>  <th>  Prob (F-statistic):</th>  <td>  0.00</td> \n",
       "</tr>\n",
       "<tr>\n",
       "  <th>Time:</th>                 <td>16:30:07</td>      <th>  Log-Likelihood:    </th> <td> -2375.7</td>\n",
       "</tr>\n",
       "<tr>\n",
       "  <th>No. Observations:</th>      <td>  1549</td>       <th>  AIC:               </th> <td>   4795.</td>\n",
       "</tr>\n",
       "<tr>\n",
       "  <th>Df Residuals:</th>          <td>  1527</td>       <th>  BIC:               </th> <td>   4913.</td>\n",
       "</tr>\n",
       "<tr>\n",
       "  <th>Df Model:</th>              <td>    21</td>       <th>                     </th>     <td> </td>   \n",
       "</tr>\n",
       "<tr>\n",
       "  <th>Covariance Type:</th>      <td>nonrobust</td>     <th>                     </th>     <td> </td>   \n",
       "</tr>\n",
       "</table>\n",
       "<table class=\"simpletable\">\n",
       "<tr>\n",
       "           <td></td>              <th>coef</th>     <th>std err</th>      <th>t</th>      <th>P>|t|</th>  <th>[0.025</th>    <th>0.975]</th>  \n",
       "</tr>\n",
       "<tr>\n",
       "  <th>const</th>               <td>    2.1747</td> <td>    0.376</td> <td>    5.791</td> <td> 0.000</td> <td>    1.438</td> <td>    2.911</td>\n",
       "</tr>\n",
       "<tr>\n",
       "  <th>Education</th>           <td>   -0.0253</td> <td>    0.023</td> <td>   -1.104</td> <td> 0.270</td> <td>   -0.070</td> <td>    0.020</td>\n",
       "</tr>\n",
       "<tr>\n",
       "  <th>Marital_Status</th>      <td>   -0.0095</td> <td>    0.028</td> <td>   -0.341</td> <td> 0.733</td> <td>   -0.064</td> <td>    0.045</td>\n",
       "</tr>\n",
       "<tr>\n",
       "  <th>Income</th>              <td> 1.351e-05</td> <td>  2.8e-06</td> <td>    4.832</td> <td> 0.000</td> <td> 8.03e-06</td> <td>  1.9e-05</td>\n",
       "</tr>\n",
       "<tr>\n",
       "  <th>Kidhome</th>             <td>   -0.8991</td> <td>    0.069</td> <td>  -12.972</td> <td> 0.000</td> <td>   -1.035</td> <td>   -0.763</td>\n",
       "</tr>\n",
       "<tr>\n",
       "  <th>Teenhome</th>            <td>   -0.7038</td> <td>    0.066</td> <td>  -10.716</td> <td> 0.000</td> <td>   -0.833</td> <td>   -0.575</td>\n",
       "</tr>\n",
       "<tr>\n",
       "  <th>MntWines</th>            <td>    0.0007</td> <td> 7.83e-05</td> <td>    9.057</td> <td> 0.000</td> <td>    0.001</td> <td>    0.001</td>\n",
       "</tr>\n",
       "<tr>\n",
       "  <th>MntFruits</th>           <td>    0.0010</td> <td>    0.001</td> <td>    0.949</td> <td> 0.343</td> <td>   -0.001</td> <td>    0.003</td>\n",
       "</tr>\n",
       "<tr>\n",
       "  <th>MntMeatProducts</th>     <td>   -0.0023</td> <td>    0.000</td> <td>   -8.006</td> <td> 0.000</td> <td>   -0.003</td> <td>   -0.002</td>\n",
       "</tr>\n",
       "<tr>\n",
       "  <th>MntFishProducts</th>     <td>    0.0008</td> <td>    0.001</td> <td>    1.018</td> <td> 0.309</td> <td>   -0.001</td> <td>    0.002</td>\n",
       "</tr>\n",
       "<tr>\n",
       "  <th>MntSweetProducts</th>    <td>    0.0019</td> <td>    0.001</td> <td>    1.966</td> <td> 0.049</td> <td> 4.77e-06</td> <td>    0.004</td>\n",
       "</tr>\n",
       "<tr>\n",
       "  <th>MntGoldProds</th>        <td>   -0.0003</td> <td>    0.001</td> <td>   -0.391</td> <td> 0.696</td> <td>   -0.002</td> <td>    0.001</td>\n",
       "</tr>\n",
       "<tr>\n",
       "  <th>NumDealsPurchases</th>   <td>    0.6301</td> <td>    0.010</td> <td>   60.251</td> <td> 0.000</td> <td>    0.610</td> <td>    0.651</td>\n",
       "</tr>\n",
       "<tr>\n",
       "  <th>NumWebPurchases</th>     <td>   -0.6540</td> <td>    0.022</td> <td>  -29.506</td> <td> 0.000</td> <td>   -0.697</td> <td>   -0.610</td>\n",
       "</tr>\n",
       "<tr>\n",
       "  <th>NumCatalogPurchases</th> <td>   -0.7960</td> <td>    0.021</td> <td>  -38.644</td> <td> 0.000</td> <td>   -0.836</td> <td>   -0.756</td>\n",
       "</tr>\n",
       "<tr>\n",
       "  <th>NumWebVisitsMonth</th>   <td>   -0.2088</td> <td>    0.020</td> <td>  -10.550</td> <td> 0.000</td> <td>   -0.248</td> <td>   -0.170</td>\n",
       "</tr>\n",
       "<tr>\n",
       "  <th>AcceptedCmp3</th>        <td>   -0.3906</td> <td>    0.172</td> <td>   -2.270</td> <td> 0.023</td> <td>   -0.728</td> <td>   -0.053</td>\n",
       "</tr>\n",
       "<tr>\n",
       "  <th>AcceptedCmp4</th>        <td>   -0.5219</td> <td>    0.189</td> <td>   -2.761</td> <td> 0.006</td> <td>   -0.893</td> <td>   -0.151</td>\n",
       "</tr>\n",
       "<tr>\n",
       "  <th>AcceptedCmp5</th>        <td>   -0.5723</td> <td>    0.207</td> <td>   -2.768</td> <td> 0.006</td> <td>   -0.978</td> <td>   -0.167</td>\n",
       "</tr>\n",
       "<tr>\n",
       "  <th>AcceptedCmp1</th>        <td>    0.1758</td> <td>    0.059</td> <td>    2.961</td> <td> 0.003</td> <td>    0.059</td> <td>    0.292</td>\n",
       "</tr>\n",
       "<tr>\n",
       "  <th>Age</th>                 <td>    0.0004</td> <td>    0.003</td> <td>    0.155</td> <td> 0.877</td> <td>   -0.005</td> <td>    0.006</td>\n",
       "</tr>\n",
       "<tr>\n",
       "  <th>MntFood</th>             <td>    0.0007</td> <td> 7.83e-05</td> <td>    9.057</td> <td> 0.000</td> <td>    0.001</td> <td>    0.001</td>\n",
       "</tr>\n",
       "<tr>\n",
       "  <th>AcceptedNum</th>         <td>    0.1758</td> <td>    0.059</td> <td>    2.961</td> <td> 0.003</td> <td>    0.059</td> <td>    0.292</td>\n",
       "</tr>\n",
       "<tr>\n",
       "  <th>YearsAsCustomer</th>     <td>   -0.0412</td> <td>    0.047</td> <td>   -0.877</td> <td> 0.381</td> <td>   -0.133</td> <td>    0.051</td>\n",
       "</tr>\n",
       "</table>\n",
       "<table class=\"simpletable\">\n",
       "<tr>\n",
       "  <th>Omnibus:</th>       <td>352.161</td> <th>  Durbin-Watson:     </th> <td>   2.070</td>\n",
       "</tr>\n",
       "<tr>\n",
       "  <th>Prob(Omnibus):</th> <td> 0.000</td>  <th>  Jarque-Bera (JB):  </th> <td>2179.650</td>\n",
       "</tr>\n",
       "<tr>\n",
       "  <th>Skew:</th>          <td>-0.911</td>  <th>  Prob(JB):          </th> <td>    0.00</td>\n",
       "</tr>\n",
       "<tr>\n",
       "  <th>Kurtosis:</th>      <td> 8.519</td>  <th>  Cond. No.          </th> <td>3.63e+20</td>\n",
       "</tr>\n",
       "</table><br/><br/>Notes:<br/>[1] Standard Errors assume that the covariance matrix of the errors is correctly specified.<br/>[2] The smallest eigenvalue is 3.73e-29. This might indicate that there are<br/>strong multicollinearity problems or that the design matrix is singular."
      ],
      "text/plain": [
       "<class 'statsmodels.iolib.summary.Summary'>\n",
       "\"\"\"\n",
       "                            OLS Regression Results                            \n",
       "==============================================================================\n",
       "Dep. Variable:      NumStorePurchases   R-squared:                       0.880\n",
       "Model:                            OLS   Adj. R-squared:                  0.878\n",
       "Method:                 Least Squares   F-statistic:                     530.8\n",
       "Date:                Thu, 04 Nov 2021   Prob (F-statistic):               0.00\n",
       "Time:                        16:30:07   Log-Likelihood:                -2375.7\n",
       "No. Observations:                1549   AIC:                             4795.\n",
       "Df Residuals:                    1527   BIC:                             4913.\n",
       "Df Model:                          21                                         \n",
       "Covariance Type:            nonrobust                                         \n",
       "=======================================================================================\n",
       "                          coef    std err          t      P>|t|      [0.025      0.975]\n",
       "---------------------------------------------------------------------------------------\n",
       "const                   2.1747      0.376      5.791      0.000       1.438       2.911\n",
       "Education              -0.0253      0.023     -1.104      0.270      -0.070       0.020\n",
       "Marital_Status         -0.0095      0.028     -0.341      0.733      -0.064       0.045\n",
       "Income               1.351e-05    2.8e-06      4.832      0.000    8.03e-06     1.9e-05\n",
       "Kidhome                -0.8991      0.069    -12.972      0.000      -1.035      -0.763\n",
       "Teenhome               -0.7038      0.066    -10.716      0.000      -0.833      -0.575\n",
       "MntWines                0.0007   7.83e-05      9.057      0.000       0.001       0.001\n",
       "MntFruits               0.0010      0.001      0.949      0.343      -0.001       0.003\n",
       "MntMeatProducts        -0.0023      0.000     -8.006      0.000      -0.003      -0.002\n",
       "MntFishProducts         0.0008      0.001      1.018      0.309      -0.001       0.002\n",
       "MntSweetProducts        0.0019      0.001      1.966      0.049    4.77e-06       0.004\n",
       "MntGoldProds           -0.0003      0.001     -0.391      0.696      -0.002       0.001\n",
       "NumDealsPurchases       0.6301      0.010     60.251      0.000       0.610       0.651\n",
       "NumWebPurchases        -0.6540      0.022    -29.506      0.000      -0.697      -0.610\n",
       "NumCatalogPurchases    -0.7960      0.021    -38.644      0.000      -0.836      -0.756\n",
       "NumWebVisitsMonth      -0.2088      0.020    -10.550      0.000      -0.248      -0.170\n",
       "AcceptedCmp3           -0.3906      0.172     -2.270      0.023      -0.728      -0.053\n",
       "AcceptedCmp4           -0.5219      0.189     -2.761      0.006      -0.893      -0.151\n",
       "AcceptedCmp5           -0.5723      0.207     -2.768      0.006      -0.978      -0.167\n",
       "AcceptedCmp1            0.1758      0.059      2.961      0.003       0.059       0.292\n",
       "Age                     0.0004      0.003      0.155      0.877      -0.005       0.006\n",
       "MntFood                 0.0007   7.83e-05      9.057      0.000       0.001       0.001\n",
       "AcceptedNum             0.1758      0.059      2.961      0.003       0.059       0.292\n",
       "YearsAsCustomer        -0.0412      0.047     -0.877      0.381      -0.133       0.051\n",
       "==============================================================================\n",
       "Omnibus:                      352.161   Durbin-Watson:                   2.070\n",
       "Prob(Omnibus):                  0.000   Jarque-Bera (JB):             2179.650\n",
       "Skew:                          -0.911   Prob(JB):                         0.00\n",
       "Kurtosis:                       8.519   Cond. No.                     3.63e+20\n",
       "==============================================================================\n",
       "\n",
       "Notes:\n",
       "[1] Standard Errors assume that the covariance matrix of the errors is correctly specified.\n",
       "[2] The smallest eigenvalue is 3.73e-29. This might indicate that there are\n",
       "strong multicollinearity problems or that the design matrix is singular.\n",
       "\"\"\""
      ]
     },
     "execution_count": 45,
     "metadata": {},
     "output_type": "execute_result"
    }
   ],
   "source": [
    "model.summary()"
   ]
  },
  {
   "cell_type": "code",
   "execution_count": 46,
   "id": "initial-small",
   "metadata": {},
   "outputs": [],
   "source": [
    "pred = model.predict(test)"
   ]
  },
  {
   "cell_type": "code",
   "execution_count": 47,
   "id": "affecting-press",
   "metadata": {},
   "outputs": [
    {
     "data": {
      "text/plain": [
       "0.8671247600615919"
      ]
     },
     "execution_count": 47,
     "metadata": {},
     "output_type": "execute_result"
    }
   ],
   "source": [
    "r2_score(test_target, pred)"
   ]
  },
  {
   "cell_type": "markdown",
   "id": "about-details",
   "metadata": {},
   "source": [
    "<h2>Do people who spend above average amount on gold for the last 2 years would have more in store purchases.<br></h2>\n",
    "<h2>To check this condact T-test</h2>"
   ]
  },
  {
   "cell_type": "code",
   "execution_count": 48,
   "id": "bound-elite",
   "metadata": {},
   "outputs": [],
   "source": [
    "mn_gold = customer_df['MntGoldProds'].mean()"
   ]
  },
  {
   "cell_type": "code",
   "execution_count": 49,
   "id": "conventional-belle",
   "metadata": {},
   "outputs": [],
   "source": [
    "above_av = customer_df[customer_df['MntGoldProds'] > mn_gold]['MntGoldProds']"
   ]
  },
  {
   "cell_type": "code",
   "execution_count": 50,
   "id": "welcome-relation",
   "metadata": {},
   "outputs": [],
   "source": [
    "below_av = customer_df[customer_df['MntGoldProds'] <= mn_gold]['MntGoldProds']"
   ]
  },
  {
   "cell_type": "code",
   "execution_count": null,
   "id": "excellent-nancy",
   "metadata": {},
   "outputs": [],
   "source": []
  },
  {
   "cell_type": "code",
   "execution_count": 51,
   "id": "pleasant-youth",
   "metadata": {},
   "outputs": [
    {
     "data": {
      "text/plain": [
       "(-50.0, 300.0)"
      ]
     },
     "execution_count": 51,
     "metadata": {},
     "output_type": "execute_result"
    },
    {
     "data": {
      "image/png": "[encoded data removed]",
      "text/plain": [
       "<Figure size 576x864 with 1 Axes>"
      ]
     },
     "metadata": {},
     "output_type": "display_data"
    }
   ],
   "source": [
    "plt.figure(figsize=(8,12))\n",
    "sns.boxplot(y=above_av)\n",
    "sns.boxplot(y=below_av)\n",
    "plt.ylim(-50,300)"
   ]
  },
  {
   "cell_type": "code",
   "execution_count": 52,
   "id": "collected-keeping",
   "metadata": {},
   "outputs": [],
   "source": [
    "gold_test = sp.stats.ttest_ind(above_av, below_av)"
   ]
  },
  {
   "cell_type": "code",
   "execution_count": 53,
   "id": "preliminary-variance",
   "metadata": {},
   "outputs": [
    {
     "data": {
      "text/plain": [
       "0.0"
      ]
     },
     "execution_count": 53,
     "metadata": {},
     "output_type": "execute_result"
    }
   ],
   "source": [
    "gold_test.pvalue"
   ]
  },
  {
   "cell_type": "markdown",
   "id": "hearing-comment",
   "metadata": {},
   "source": [
    "Pvalue is less than 0.05 so our groups differs and assumption is correct"
   ]
  },
  {
   "cell_type": "markdown",
   "id": "incorporated-vancouver",
   "metadata": {},
   "source": [
    "<h3>Fish has Omega 3 fatty acids which are good for the brain. Accordingly, do “Married PhD candidates” have a significant relation with amount spent on fish? What other factors are significantly related to amount spent on fish? (Hint: use your knowledge of interaction variables/effects)</h3>"
   ]
  },
  {
   "cell_type": "code",
   "execution_count": 54,
   "id": "suited-groove",
   "metadata": {},
   "outputs": [],
   "source": [
    "fish_spent = customer_df[['Education', 'Marital_Status', 'MntFishProducts']]"
   ]
  },
  {
   "cell_type": "code",
   "execution_count": 55,
   "id": "presidential-party",
   "metadata": {},
   "outputs": [
    {
     "data": {
      "text/html": [
       "<div>\n",
       "<style scoped>\n",
       "    .dataframe tbody tr th:only-of-type {\n",
       "        vertical-align: middle;\n",
       "    }\n",
       "\n",
       "    .dataframe tbody tr th {\n",
       "        vertical-align: top;\n",
       "    }\n",
       "\n",
       "    .dataframe thead th {\n",
       "        text-align: right;\n",
       "    }\n",
       "</style>\n",
       "<table border=\"1\" class=\"dataframe\">\n",
       "  <thead>\n",
       "    <tr style=\"text-align: right;\">\n",
       "      <th></th>\n",
       "      <th>Education</th>\n",
       "      <th>Marital_Status</th>\n",
       "      <th>MntFishProducts</th>\n",
       "    </tr>\n",
       "    <tr>\n",
       "      <th>ID</th>\n",
       "      <th></th>\n",
       "      <th></th>\n",
       "      <th></th>\n",
       "    </tr>\n",
       "  </thead>\n",
       "  <tbody>\n",
       "    <tr>\n",
       "      <th>5524</th>\n",
       "      <td>Graduation</td>\n",
       "      <td>Single</td>\n",
       "      <td>172</td>\n",
       "    </tr>\n",
       "    <tr>\n",
       "      <th>2174</th>\n",
       "      <td>Graduation</td>\n",
       "      <td>Single</td>\n",
       "      <td>2</td>\n",
       "    </tr>\n",
       "    <tr>\n",
       "      <th>4141</th>\n",
       "      <td>Graduation</td>\n",
       "      <td>Together</td>\n",
       "      <td>111</td>\n",
       "    </tr>\n",
       "    <tr>\n",
       "      <th>6182</th>\n",
       "      <td>Graduation</td>\n",
       "      <td>Together</td>\n",
       "      <td>10</td>\n",
       "    </tr>\n",
       "    <tr>\n",
       "      <th>5324</th>\n",
       "      <td>PhD</td>\n",
       "      <td>Married</td>\n",
       "      <td>46</td>\n",
       "    </tr>\n",
       "  </tbody>\n",
       "</table>\n",
       "</div>"
      ],
      "text/plain": [
       "       Education Marital_Status  MntFishProducts\n",
       "ID                                              \n",
       "5524  Graduation         Single              172\n",
       "2174  Graduation         Single                2\n",
       "4141  Graduation       Together              111\n",
       "6182  Graduation       Together               10\n",
       "5324         PhD        Married               46"
      ]
     },
     "execution_count": 55,
     "metadata": {},
     "output_type": "execute_result"
    }
   ],
   "source": [
    "fish_spent.head()"
   ]
  },
  {
   "cell_type": "code",
   "execution_count": 56,
   "id": "fewer-minister",
   "metadata": {},
   "outputs": [],
   "source": [
    "import statsmodels.api as sm\n",
    "from statsmodels.formula.api import ols"
   ]
  },
  {
   "cell_type": "code",
   "execution_count": 57,
   "id": "social-institution",
   "metadata": {},
   "outputs": [],
   "source": [
    "inter_test = ols('MntFishProducts ~ C(Education) + C(Marital_Status) + C(Education)*C(Marital_Status)', data=fish_spent).fit()"
   ]
  },
  {
   "cell_type": "code",
   "execution_count": 58,
   "id": "friendly-alloy",
   "metadata": {},
   "outputs": [
    {
     "name": "stderr",
     "output_type": "stream",
     "text": [
      "c:\\users\\admin\\appdata\\local\\programs\\python\\python39\\lib\\site-packages\\statsmodels\\base\\model.py:1863: ValueWarning: covariance of constraints does not have full rank. The number of constraints is 28, but rank is 24\n",
      "  warnings.warn('covariance of constraints does not have full '\n"
     ]
    },
    {
     "data": {
      "text/html": [
       "<div>\n",
       "<style scoped>\n",
       "    .dataframe tbody tr th:only-of-type {\n",
       "        vertical-align: middle;\n",
       "    }\n",
       "\n",
       "    .dataframe tbody tr th {\n",
       "        vertical-align: top;\n",
       "    }\n",
       "\n",
       "    .dataframe thead th {\n",
       "        text-align: right;\n",
       "    }\n",
       "</style>\n",
       "<table border=\"1\" class=\"dataframe\">\n",
       "  <thead>\n",
       "    <tr style=\"text-align: right;\">\n",
       "      <th></th>\n",
       "      <th>sum_sq</th>\n",
       "      <th>df</th>\n",
       "      <th>F</th>\n",
       "      <th>PR(&gt;F)</th>\n",
       "    </tr>\n",
       "  </thead>\n",
       "  <tbody>\n",
       "    <tr>\n",
       "      <th>Intercept</th>\n",
       "      <td>1.129223e+05</td>\n",
       "      <td>1.0</td>\n",
       "      <td>38.848674</td>\n",
       "      <td>5.480754e-10</td>\n",
       "    </tr>\n",
       "    <tr>\n",
       "      <th>C(Education)</th>\n",
       "      <td>7.835440e+04</td>\n",
       "      <td>4.0</td>\n",
       "      <td>6.739067</td>\n",
       "      <td>2.178377e-05</td>\n",
       "    </tr>\n",
       "    <tr>\n",
       "      <th>C(Marital_Status)</th>\n",
       "      <td>9.158650e+04</td>\n",
       "      <td>7.0</td>\n",
       "      <td>4.501216</td>\n",
       "      <td>5.429137e-05</td>\n",
       "    </tr>\n",
       "    <tr>\n",
       "      <th>C(Education):C(Marital_Status)</th>\n",
       "      <td>2.302037e+05</td>\n",
       "      <td>28.0</td>\n",
       "      <td>2.828464</td>\n",
       "      <td>5.788514e-06</td>\n",
       "    </tr>\n",
       "    <tr>\n",
       "      <th>Residual</th>\n",
       "      <td>6.342469e+06</td>\n",
       "      <td>2182.0</td>\n",
       "      <td>NaN</td>\n",
       "      <td>NaN</td>\n",
       "    </tr>\n",
       "  </tbody>\n",
       "</table>\n",
       "</div>"
      ],
      "text/plain": [
       "                                      sum_sq      df          F        PR(>F)\n",
       "Intercept                       1.129223e+05     1.0  38.848674  5.480754e-10\n",
       "C(Education)                    7.835440e+04     4.0   6.739067  2.178377e-05\n",
       "C(Marital_Status)               9.158650e+04     7.0   4.501216  5.429137e-05\n",
       "C(Education):C(Marital_Status)  2.302037e+05    28.0   2.828464  5.788514e-06\n",
       "Residual                        6.342469e+06  2182.0        NaN           NaN"
      ]
     },
     "execution_count": 58,
     "metadata": {},
     "output_type": "execute_result"
    }
   ],
   "source": [
    "sm.stats.anova_lm(inter_test, typ=3)"
   ]
  },
  {
   "cell_type": "markdown",
   "id": "personal-socket",
   "metadata": {},
   "source": [
    "as Pvalue for interaction of variables = 0.032 < 0.05 we may say that interaction between education and marital status is significant"
   ]
  },
  {
   "cell_type": "code",
   "execution_count": 59,
   "id": "compound-nepal",
   "metadata": {},
   "outputs": [],
   "source": [
    "education_money_spent = customer_df.groupby('Education').MntFishProducts.mean()"
   ]
  },
  {
   "cell_type": "code",
   "execution_count": 62,
   "id": "local-forth",
   "metadata": {},
   "outputs": [
    {
     "data": {
      "text/html": [
       "<div>\n",
       "<style scoped>\n",
       "    .dataframe tbody tr th:only-of-type {\n",
       "        vertical-align: middle;\n",
       "    }\n",
       "\n",
       "    .dataframe tbody tr th {\n",
       "        vertical-align: top;\n",
       "    }\n",
       "\n",
       "    .dataframe thead th {\n",
       "        text-align: right;\n",
       "    }\n",
       "</style>\n",
       "<table border=\"1\" class=\"dataframe\">\n",
       "  <thead>\n",
       "    <tr style=\"text-align: right;\">\n",
       "      <th></th>\n",
       "      <th>Education</th>\n",
       "      <th>MntFishProducts</th>\n",
       "    </tr>\n",
       "  </thead>\n",
       "  <tbody>\n",
       "    <tr>\n",
       "      <th>0</th>\n",
       "      <td>2n Cycle</td>\n",
       "      <td>48.454545</td>\n",
       "    </tr>\n",
       "    <tr>\n",
       "      <th>1</th>\n",
       "      <td>Basic</td>\n",
       "      <td>17.055556</td>\n",
       "    </tr>\n",
       "    <tr>\n",
       "      <th>2</th>\n",
       "      <td>Graduation</td>\n",
       "      <td>43.416667</td>\n",
       "    </tr>\n",
       "    <tr>\n",
       "      <th>3</th>\n",
       "      <td>Master</td>\n",
       "      <td>31.493151</td>\n",
       "    </tr>\n",
       "    <tr>\n",
       "      <th>4</th>\n",
       "      <td>PhD</td>\n",
       "      <td>26.716667</td>\n",
       "    </tr>\n",
       "  </tbody>\n",
       "</table>\n",
       "</div>"
      ],
      "text/plain": [
       "    Education  MntFishProducts\n",
       "0    2n Cycle        48.454545\n",
       "1       Basic        17.055556\n",
       "2  Graduation        43.416667\n",
       "3      Master        31.493151\n",
       "4         PhD        26.716667"
      ]
     },
     "execution_count": 62,
     "metadata": {},
     "output_type": "execute_result"
    }
   ],
   "source": [
    "education_money_spent = education_money_spent.reset_index()\n",
    "education_money_spent"
   ]
  },
  {
   "cell_type": "code",
   "execution_count": 63,
   "id": "coordinate-commercial",
   "metadata": {},
   "outputs": [
    {
     "data": {
      "text/plain": [
       "Text(0, 0.5, 'Money spent on fish (thsnd $)')"
      ]
     },
     "execution_count": 63,
     "metadata": {},
     "output_type": "execute_result"
    },
    {
     "data": {
      "image/png": "[encoded data removed]",
      "text/plain": [
       "<Figure size 432x288 with 1 Axes>"
      ]
     },
     "metadata": {},
     "output_type": "display_data"
    }
   ],
   "source": [
    "sns.barplot(x='Education', y='MntFishProducts', data=education_money_spent)\n",
    "plt.xlabel('Education', fontsize=16)\n",
    "plt.ylabel('Money spent on fish (thsnd $)', fontsize=16)"
   ]
  },
  {
   "cell_type": "code",
   "execution_count": 64,
   "id": "intense-nigeria",
   "metadata": {},
   "outputs": [],
   "source": [
    "marital_status_fish = customer_df.groupby('Marital_Status').MntFishProducts.mean().reset_index()"
   ]
  },
  {
   "cell_type": "code",
   "execution_count": 66,
   "id": "mexican-advance",
   "metadata": {},
   "outputs": [
    {
     "data": {
      "image/png": "[encoded data removed]",
      "text/plain": [
       "<Figure size 432x288 with 1 Axes>"
      ]
     },
     "metadata": {},
     "output_type": "display_data"
    }
   ],
   "source": [
    "sns.barplot(x='Marital_Status', y='MntFishProducts', data=marital_status_fish)\n",
    "plt.xlabel('Marital Status', fontsize=16)\n",
    "plt.ylabel('Money spent on fish', fontsize=16)\n",
    "plt.show()"
   ]
  },
  {
   "cell_type": "code",
   "execution_count": 70,
   "id": "rubber-debate",
   "metadata": {},
   "outputs": [],
   "source": [
    "mstat_educ_df = customer_df[['Education','Marital_Status','MntFishProducts']]"
   ]
  },
  {
   "cell_type": "code",
   "execution_count": 74,
   "id": "boxed-charm",
   "metadata": {},
   "outputs": [
    {
     "name": "stderr",
     "output_type": "stream",
     "text": [
      "<ipython-input-74-16412b0889b3>:1: SettingWithCopyWarning: \n",
      "A value is trying to be set on a copy of a slice from a DataFrame.\n",
      "Try using .loc[row_indexer,col_indexer] = value instead\n",
      "\n",
      "See the caveats in the documentation: https://pandas.pydata.org/pandas-docs/stable/user_guide/indexing.html#returning-a-view-versus-a-copy\n",
      "  mstat_educ_df['MarStatus_Education'] = str(mstat_educ_df['Education']) + '&' + str(mstat_educ_df['Marital_Status'])\n"
     ]
    }
   ],
   "source": [
    "mstat_educ_df['MarStatus_Education'] = str(mstat_educ_df['Education']) + '&' + str(mstat_educ_df['Marital_Status'])"
   ]
  },
  {
   "cell_type": "code",
   "execution_count": 87,
   "id": "surgical-latvia",
   "metadata": {},
   "outputs": [],
   "source": [
    "mstat_educ_df['MarStatus_Education'] = mstat_educ_df['Education'] + '&' + mstat_educ_df['Marital_Status']"
   ]
  },
  {
   "cell_type": "code",
   "execution_count": 91,
   "id": "continued-myanmar",
   "metadata": {},
   "outputs": [],
   "source": [
    "mstatus_educ_group = mstat_educ_df.groupby('MarStatus_Education')['MntFishProducts'].sum().reset_index()"
   ]
  },
  {
   "cell_type": "code",
   "execution_count": 115,
   "id": "subject-silly",
   "metadata": {},
   "outputs": [],
   "source": [
    "mstatus_educ_group['Education'] = mstatus_educ_group['MarStatus_Education'].str.split(pat='&', expand=True)"
   ]
  },
  {
   "cell_type": "code",
   "execution_count": 136,
   "id": "neither-transfer",
   "metadata": {},
   "outputs": [
    {
     "data": {
      "text/plain": [
       "Text(0, 0.5, 'Money spent on fish (thsnd $)')"
      ]
     },
     "execution_count": 136,
     "metadata": {},
     "output_type": "execute_result"
    },
    {
     "data": {
      "image/png": "[encoded data removed]",
      "text/plain": [
       "<Figure size 864x432 with 1 Axes>"
      ]
     },
     "metadata": {},
     "output_type": "display_data"
    }
   ],
   "source": [
    "plt.figure(figsize=(12, 6))\n",
    "g = sns.barplot(x='MarStatus_Education', y='MntFishProducts', data=mstatus_educ_group, hue='Education')\n",
    "plt.xticks(rotation=70)\n",
    "plt.xlabel('Education & Marital Status', fontsize=20)\n",
    "plt.ylabel('Money spent on fish (thsnd $)', fontsize=20)"
   ]
  },
  {
   "cell_type": "markdown",
   "id": "strange-airline",
   "metadata": {},
   "source": [
    "<h3>As we may see from chart, Graduated people tend to buy more fish products</h3>"
   ]
  },
  {
   "cell_type": "code",
   "execution_count": null,
   "id": "impossible-lancaster",
   "metadata": {},
   "outputs": [],
   "source": []
  }
 ],
 "metadata": {
  "kernelspec": {
   "display_name": "Python 3",
   "language": "python",
   "name": "python3"
  },
  "language_info": {
   "codemirror_mode": {
    "name": "ipython",
    "version": 3
   },
   "file_extension": ".py",
   "mimetype": "text/x-python",
   "name": "python",
   "nbconvert_exporter": "python",
   "pygments_lexer": "ipython3",
   "version": "3.9.2"
  }
 },
 "nbformat": 4,
 "nbformat_minor": 5
}
